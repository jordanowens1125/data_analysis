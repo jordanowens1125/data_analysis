{
 "cells": [
  {
   "cell_type": "markdown",
   "metadata": {
    "id": "W-U9qgkNCPV8"
   },
   "source": [
    "Can we create a model that predicts whether or not a team won a game based on the team stats w/o comparing it to the opponents stats?\n",
    "\n",
    "Are there certain stats that teams should place more emphasis on to win?"
   ]
  },
  {
   "cell_type": "markdown",
   "metadata": {
    "id": "lkGZoqb7tWJn"
   },
   "source": [
    "Import Packages"
   ]
  },
  {
   "cell_type": "code",
   "execution_count": 1,
   "metadata": {
    "id": "vVo3DMez1ofl"
   },
   "outputs": [],
   "source": [
    "import pandas as pd\n",
    "import numpy as np\n",
    "import seaborn as sns\n",
    "from datetime import datetime\n",
    "import matplotlib.pyplot as plt"
   ]
  },
  {
   "cell_type": "markdown",
   "metadata": {},
   "source": [
    "Kaggle Dataset from https://www.kaggle.com/nathanlauga/nba-games\n",
    "Used game_details file"
   ]
  },
  {
   "cell_type": "code",
   "execution_count": 2,
   "metadata": {
    "id": "Apu3fl2M2Ay_"
   },
   "outputs": [],
   "source": [
    "data = pd.read_csv(r\"C:\\Users\\jorda\\OneDrive\\Desktop\\Projects\\Data Analysis\\TeamWInPrediction\\games_details.csv\")"
   ]
  },
  {
   "cell_type": "markdown",
   "metadata": {
    "id": "6_wE8kBytiwI"
   },
   "source": [
    "Get all columns in dataset"
   ]
  },
  {
   "cell_type": "code",
   "execution_count": 3,
   "metadata": {
    "id": "RMewVsCNuyqh"
   },
   "outputs": [
    {
     "data": {
      "text/plain": [
       "Index(['index', 'GAME_ID', 'TEAM_ID', 'TEAM_ABBREVIATION', 'TEAM_CITY',\n",
       "       'PLAYER_ID', 'PLAYER_NAME', 'START_POSITION', 'COMMENT', 'MIN', 'FGM',\n",
       "       'FGA', 'FG_PCT', 'FG3M', 'FG3A', 'FG3_PCT', 'FTM', 'FTA', 'FT_PCT',\n",
       "       'OREB', 'DREB', 'REB', 'AST', 'STL', 'BLK', 'TO', 'PF', 'PTS',\n",
       "       'PLUS_MINUS'],\n",
       "      dtype='object')"
      ]
     },
     "execution_count": 3,
     "metadata": {},
     "output_type": "execute_result"
    }
   ],
   "source": [
    "df = pd.DataFrame(data)\n",
    "df = df.reset_index()\n",
    "df.columns\n"
   ]
  },
  {
   "cell_type": "code",
   "execution_count": 4,
   "metadata": {
    "id": "nqIfNZ2rzZNv"
   },
   "outputs": [
    {
     "data": {
      "text/html": [
       "<div>\n",
       "<style scoped>\n",
       "    .dataframe tbody tr th:only-of-type {\n",
       "        vertical-align: middle;\n",
       "    }\n",
       "\n",
       "    .dataframe tbody tr th {\n",
       "        vertical-align: top;\n",
       "    }\n",
       "\n",
       "    .dataframe thead th {\n",
       "        text-align: right;\n",
       "    }\n",
       "</style>\n",
       "<table border=\"1\" class=\"dataframe\">\n",
       "  <thead>\n",
       "    <tr style=\"text-align: right;\">\n",
       "      <th></th>\n",
       "      <th>index</th>\n",
       "      <th>GAME_ID</th>\n",
       "      <th>TEAM_ID</th>\n",
       "      <th>TEAM_ABBREVIATION</th>\n",
       "      <th>TEAM_CITY</th>\n",
       "      <th>PLAYER_ID</th>\n",
       "      <th>PLAYER_NAME</th>\n",
       "      <th>START_POSITION</th>\n",
       "      <th>COMMENT</th>\n",
       "      <th>MIN</th>\n",
       "      <th>...</th>\n",
       "      <th>OREB</th>\n",
       "      <th>DREB</th>\n",
       "      <th>REB</th>\n",
       "      <th>AST</th>\n",
       "      <th>STL</th>\n",
       "      <th>BLK</th>\n",
       "      <th>TO</th>\n",
       "      <th>PF</th>\n",
       "      <th>PTS</th>\n",
       "      <th>PLUS_MINUS</th>\n",
       "    </tr>\n",
       "  </thead>\n",
       "  <tbody>\n",
       "    <tr>\n",
       "      <th>0</th>\n",
       "      <td>0</td>\n",
       "      <td>42000102</td>\n",
       "      <td>1610612764</td>\n",
       "      <td>WAS</td>\n",
       "      <td>Washington</td>\n",
       "      <td>203078</td>\n",
       "      <td>Bradley Beal</td>\n",
       "      <td>F</td>\n",
       "      <td>NaN</td>\n",
       "      <td>34:36:00</td>\n",
       "      <td>...</td>\n",
       "      <td>0.0</td>\n",
       "      <td>4.0</td>\n",
       "      <td>4.0</td>\n",
       "      <td>3.0</td>\n",
       "      <td>1.0</td>\n",
       "      <td>0.0</td>\n",
       "      <td>1.0</td>\n",
       "      <td>0.0</td>\n",
       "      <td>33.0</td>\n",
       "      <td>-22.0</td>\n",
       "    </tr>\n",
       "    <tr>\n",
       "      <th>1</th>\n",
       "      <td>1</td>\n",
       "      <td>42000102</td>\n",
       "      <td>1610612764</td>\n",
       "      <td>WAS</td>\n",
       "      <td>Washington</td>\n",
       "      <td>1629060</td>\n",
       "      <td>Rui Hachimura</td>\n",
       "      <td>F</td>\n",
       "      <td>NaN</td>\n",
       "      <td>25:50:00</td>\n",
       "      <td>...</td>\n",
       "      <td>2.0</td>\n",
       "      <td>5.0</td>\n",
       "      <td>7.0</td>\n",
       "      <td>1.0</td>\n",
       "      <td>0.0</td>\n",
       "      <td>0.0</td>\n",
       "      <td>3.0</td>\n",
       "      <td>4.0</td>\n",
       "      <td>11.0</td>\n",
       "      <td>-6.0</td>\n",
       "    </tr>\n",
       "    <tr>\n",
       "      <th>2</th>\n",
       "      <td>2</td>\n",
       "      <td>42000102</td>\n",
       "      <td>1610612764</td>\n",
       "      <td>WAS</td>\n",
       "      <td>Washington</td>\n",
       "      <td>203458</td>\n",
       "      <td>Alex Len</td>\n",
       "      <td>C</td>\n",
       "      <td>NaN</td>\n",
       "      <td>12:11</td>\n",
       "      <td>...</td>\n",
       "      <td>3.0</td>\n",
       "      <td>2.0</td>\n",
       "      <td>5.0</td>\n",
       "      <td>0.0</td>\n",
       "      <td>1.0</td>\n",
       "      <td>0.0</td>\n",
       "      <td>0.0</td>\n",
       "      <td>2.0</td>\n",
       "      <td>6.0</td>\n",
       "      <td>-11.0</td>\n",
       "    </tr>\n",
       "    <tr>\n",
       "      <th>3</th>\n",
       "      <td>3</td>\n",
       "      <td>42000102</td>\n",
       "      <td>1610612764</td>\n",
       "      <td>WAS</td>\n",
       "      <td>Washington</td>\n",
       "      <td>203526</td>\n",
       "      <td>Raul Neto</td>\n",
       "      <td>G</td>\n",
       "      <td>NaN</td>\n",
       "      <td>19:19</td>\n",
       "      <td>...</td>\n",
       "      <td>1.0</td>\n",
       "      <td>2.0</td>\n",
       "      <td>3.0</td>\n",
       "      <td>1.0</td>\n",
       "      <td>0.0</td>\n",
       "      <td>0.0</td>\n",
       "      <td>0.0</td>\n",
       "      <td>2.0</td>\n",
       "      <td>4.0</td>\n",
       "      <td>-17.0</td>\n",
       "    </tr>\n",
       "    <tr>\n",
       "      <th>4</th>\n",
       "      <td>4</td>\n",
       "      <td>42000102</td>\n",
       "      <td>1610612764</td>\n",
       "      <td>WAS</td>\n",
       "      <td>Washington</td>\n",
       "      <td>201566</td>\n",
       "      <td>Russell Westbrook</td>\n",
       "      <td>G</td>\n",
       "      <td>NaN</td>\n",
       "      <td>29:07:00</td>\n",
       "      <td>...</td>\n",
       "      <td>2.0</td>\n",
       "      <td>4.0</td>\n",
       "      <td>6.0</td>\n",
       "      <td>11.0</td>\n",
       "      <td>0.0</td>\n",
       "      <td>0.0</td>\n",
       "      <td>4.0</td>\n",
       "      <td>0.0</td>\n",
       "      <td>10.0</td>\n",
       "      <td>-16.0</td>\n",
       "    </tr>\n",
       "    <tr>\n",
       "      <th>5</th>\n",
       "      <td>5</td>\n",
       "      <td>42000102</td>\n",
       "      <td>1610612764</td>\n",
       "      <td>WAS</td>\n",
       "      <td>Washington</td>\n",
       "      <td>202722</td>\n",
       "      <td>Davis Bertans</td>\n",
       "      <td>NaN</td>\n",
       "      <td>NaN</td>\n",
       "      <td>23:43</td>\n",
       "      <td>...</td>\n",
       "      <td>0.0</td>\n",
       "      <td>2.0</td>\n",
       "      <td>2.0</td>\n",
       "      <td>0.0</td>\n",
       "      <td>0.0</td>\n",
       "      <td>0.0</td>\n",
       "      <td>0.0</td>\n",
       "      <td>6.0</td>\n",
       "      <td>0.0</td>\n",
       "      <td>-11.0</td>\n",
       "    </tr>\n",
       "    <tr>\n",
       "      <th>6</th>\n",
       "      <td>6</td>\n",
       "      <td>42000102</td>\n",
       "      <td>1610612764</td>\n",
       "      <td>WAS</td>\n",
       "      <td>Washington</td>\n",
       "      <td>202397</td>\n",
       "      <td>Ish Smith</td>\n",
       "      <td>NaN</td>\n",
       "      <td>NaN</td>\n",
       "      <td>23:20</td>\n",
       "      <td>...</td>\n",
       "      <td>0.0</td>\n",
       "      <td>1.0</td>\n",
       "      <td>1.0</td>\n",
       "      <td>3.0</td>\n",
       "      <td>0.0</td>\n",
       "      <td>0.0</td>\n",
       "      <td>1.0</td>\n",
       "      <td>1.0</td>\n",
       "      <td>10.0</td>\n",
       "      <td>-10.0</td>\n",
       "    </tr>\n",
       "    <tr>\n",
       "      <th>7</th>\n",
       "      <td>7</td>\n",
       "      <td>42000102</td>\n",
       "      <td>1610612764</td>\n",
       "      <td>WAS</td>\n",
       "      <td>Washington</td>\n",
       "      <td>1629655</td>\n",
       "      <td>Daniel Gafford</td>\n",
       "      <td>NaN</td>\n",
       "      <td>NaN</td>\n",
       "      <td>20:00</td>\n",
       "      <td>...</td>\n",
       "      <td>4.0</td>\n",
       "      <td>2.0</td>\n",
       "      <td>6.0</td>\n",
       "      <td>1.0</td>\n",
       "      <td>1.0</td>\n",
       "      <td>1.0</td>\n",
       "      <td>1.0</td>\n",
       "      <td>1.0</td>\n",
       "      <td>11.0</td>\n",
       "      <td>-1.0</td>\n",
       "    </tr>\n",
       "    <tr>\n",
       "      <th>8</th>\n",
       "      <td>8</td>\n",
       "      <td>42000102</td>\n",
       "      <td>1610612764</td>\n",
       "      <td>WAS</td>\n",
       "      <td>Washington</td>\n",
       "      <td>1628990</td>\n",
       "      <td>Chandler Hutchison</td>\n",
       "      <td>NaN</td>\n",
       "      <td>NaN</td>\n",
       "      <td>16:29</td>\n",
       "      <td>...</td>\n",
       "      <td>0.0</td>\n",
       "      <td>2.0</td>\n",
       "      <td>2.0</td>\n",
       "      <td>1.0</td>\n",
       "      <td>0.0</td>\n",
       "      <td>0.0</td>\n",
       "      <td>1.0</td>\n",
       "      <td>1.0</td>\n",
       "      <td>4.0</td>\n",
       "      <td>-17.0</td>\n",
       "    </tr>\n",
       "    <tr>\n",
       "      <th>9</th>\n",
       "      <td>9</td>\n",
       "      <td>42000102</td>\n",
       "      <td>1610612764</td>\n",
       "      <td>WAS</td>\n",
       "      <td>Washington</td>\n",
       "      <td>201577</td>\n",
       "      <td>Robin Lopez</td>\n",
       "      <td>NaN</td>\n",
       "      <td>NaN</td>\n",
       "      <td>10:15</td>\n",
       "      <td>...</td>\n",
       "      <td>0.0</td>\n",
       "      <td>0.0</td>\n",
       "      <td>0.0</td>\n",
       "      <td>0.0</td>\n",
       "      <td>0.0</td>\n",
       "      <td>0.0</td>\n",
       "      <td>0.0</td>\n",
       "      <td>2.0</td>\n",
       "      <td>4.0</td>\n",
       "      <td>-12.0</td>\n",
       "    </tr>\n",
       "    <tr>\n",
       "      <th>10</th>\n",
       "      <td>10</td>\n",
       "      <td>42000102</td>\n",
       "      <td>1610612764</td>\n",
       "      <td>WAS</td>\n",
       "      <td>Washington</td>\n",
       "      <td>1630264</td>\n",
       "      <td>Anthony Gill</td>\n",
       "      <td>NaN</td>\n",
       "      <td>NaN</td>\n",
       "      <td>7:58</td>\n",
       "      <td>...</td>\n",
       "      <td>0.0</td>\n",
       "      <td>1.0</td>\n",
       "      <td>1.0</td>\n",
       "      <td>0.0</td>\n",
       "      <td>0.0</td>\n",
       "      <td>0.0</td>\n",
       "      <td>0.0</td>\n",
       "      <td>0.0</td>\n",
       "      <td>0.0</td>\n",
       "      <td>-1.0</td>\n",
       "    </tr>\n",
       "    <tr>\n",
       "      <th>11</th>\n",
       "      <td>11</td>\n",
       "      <td>42000102</td>\n",
       "      <td>1610612764</td>\n",
       "      <td>WAS</td>\n",
       "      <td>Washington</td>\n",
       "      <td>1629726</td>\n",
       "      <td>Garrison Mathews</td>\n",
       "      <td>NaN</td>\n",
       "      <td>NaN</td>\n",
       "      <td>7:58</td>\n",
       "      <td>...</td>\n",
       "      <td>0.0</td>\n",
       "      <td>1.0</td>\n",
       "      <td>1.0</td>\n",
       "      <td>0.0</td>\n",
       "      <td>0.0</td>\n",
       "      <td>0.0</td>\n",
       "      <td>0.0</td>\n",
       "      <td>1.0</td>\n",
       "      <td>0.0</td>\n",
       "      <td>-1.0</td>\n",
       "    </tr>\n",
       "    <tr>\n",
       "      <th>12</th>\n",
       "      <td>12</td>\n",
       "      <td>42000102</td>\n",
       "      <td>1610612764</td>\n",
       "      <td>WAS</td>\n",
       "      <td>Washington</td>\n",
       "      <td>1630216</td>\n",
       "      <td>Cassius Winston</td>\n",
       "      <td>NaN</td>\n",
       "      <td>NaN</td>\n",
       "      <td>5:29</td>\n",
       "      <td>...</td>\n",
       "      <td>1.0</td>\n",
       "      <td>1.0</td>\n",
       "      <td>2.0</td>\n",
       "      <td>1.0</td>\n",
       "      <td>0.0</td>\n",
       "      <td>0.0</td>\n",
       "      <td>2.0</td>\n",
       "      <td>1.0</td>\n",
       "      <td>2.0</td>\n",
       "      <td>-2.0</td>\n",
       "    </tr>\n",
       "    <tr>\n",
       "      <th>13</th>\n",
       "      <td>13</td>\n",
       "      <td>42000102</td>\n",
       "      <td>1610612764</td>\n",
       "      <td>WAS</td>\n",
       "      <td>Washington</td>\n",
       "      <td>1629067</td>\n",
       "      <td>Isaac Bonga</td>\n",
       "      <td>NaN</td>\n",
       "      <td>NaN</td>\n",
       "      <td>3:45</td>\n",
       "      <td>...</td>\n",
       "      <td>0.0</td>\n",
       "      <td>0.0</td>\n",
       "      <td>0.0</td>\n",
       "      <td>0.0</td>\n",
       "      <td>0.0</td>\n",
       "      <td>1.0</td>\n",
       "      <td>0.0</td>\n",
       "      <td>0.0</td>\n",
       "      <td>0.0</td>\n",
       "      <td>2.0</td>\n",
       "    </tr>\n",
       "    <tr>\n",
       "      <th>14</th>\n",
       "      <td>14</td>\n",
       "      <td>42000102</td>\n",
       "      <td>1610612755</td>\n",
       "      <td>PHI</td>\n",
       "      <td>Philadelphia</td>\n",
       "      <td>201980</td>\n",
       "      <td>Danny Green</td>\n",
       "      <td>F</td>\n",
       "      <td>NaN</td>\n",
       "      <td>21:44</td>\n",
       "      <td>...</td>\n",
       "      <td>1.0</td>\n",
       "      <td>1.0</td>\n",
       "      <td>2.0</td>\n",
       "      <td>2.0</td>\n",
       "      <td>0.0</td>\n",
       "      <td>2.0</td>\n",
       "      <td>1.0</td>\n",
       "      <td>2.0</td>\n",
       "      <td>5.0</td>\n",
       "      <td>8.0</td>\n",
       "    </tr>\n",
       "    <tr>\n",
       "      <th>15</th>\n",
       "      <td>15</td>\n",
       "      <td>42000102</td>\n",
       "      <td>1610612755</td>\n",
       "      <td>PHI</td>\n",
       "      <td>Philadelphia</td>\n",
       "      <td>202699</td>\n",
       "      <td>Tobias Harris</td>\n",
       "      <td>F</td>\n",
       "      <td>NaN</td>\n",
       "      <td>23:17</td>\n",
       "      <td>...</td>\n",
       "      <td>0.0</td>\n",
       "      <td>9.0</td>\n",
       "      <td>9.0</td>\n",
       "      <td>1.0</td>\n",
       "      <td>1.0</td>\n",
       "      <td>0.0</td>\n",
       "      <td>1.0</td>\n",
       "      <td>2.0</td>\n",
       "      <td>19.0</td>\n",
       "      <td>11.0</td>\n",
       "    </tr>\n",
       "    <tr>\n",
       "      <th>16</th>\n",
       "      <td>16</td>\n",
       "      <td>42000102</td>\n",
       "      <td>1610612755</td>\n",
       "      <td>PHI</td>\n",
       "      <td>Philadelphia</td>\n",
       "      <td>203954</td>\n",
       "      <td>Joel Embiid</td>\n",
       "      <td>C</td>\n",
       "      <td>NaN</td>\n",
       "      <td>26:17:00</td>\n",
       "      <td>...</td>\n",
       "      <td>0.0</td>\n",
       "      <td>7.0</td>\n",
       "      <td>7.0</td>\n",
       "      <td>3.0</td>\n",
       "      <td>0.0</td>\n",
       "      <td>0.0</td>\n",
       "      <td>1.0</td>\n",
       "      <td>1.0</td>\n",
       "      <td>22.0</td>\n",
       "      <td>19.0</td>\n",
       "    </tr>\n",
       "    <tr>\n",
       "      <th>17</th>\n",
       "      <td>17</td>\n",
       "      <td>42000102</td>\n",
       "      <td>1610612755</td>\n",
       "      <td>PHI</td>\n",
       "      <td>Philadelphia</td>\n",
       "      <td>203552</td>\n",
       "      <td>Seth Curry</td>\n",
       "      <td>G</td>\n",
       "      <td>NaN</td>\n",
       "      <td>23:04</td>\n",
       "      <td>...</td>\n",
       "      <td>0.0</td>\n",
       "      <td>0.0</td>\n",
       "      <td>0.0</td>\n",
       "      <td>3.0</td>\n",
       "      <td>0.0</td>\n",
       "      <td>0.0</td>\n",
       "      <td>0.0</td>\n",
       "      <td>2.0</td>\n",
       "      <td>9.0</td>\n",
       "      <td>19.0</td>\n",
       "    </tr>\n",
       "    <tr>\n",
       "      <th>18</th>\n",
       "      <td>18</td>\n",
       "      <td>42000102</td>\n",
       "      <td>1610612755</td>\n",
       "      <td>PHI</td>\n",
       "      <td>Philadelphia</td>\n",
       "      <td>1627732</td>\n",
       "      <td>Ben Simmons</td>\n",
       "      <td>G</td>\n",
       "      <td>NaN</td>\n",
       "      <td>28:34:00</td>\n",
       "      <td>...</td>\n",
       "      <td>2.0</td>\n",
       "      <td>7.0</td>\n",
       "      <td>9.0</td>\n",
       "      <td>8.0</td>\n",
       "      <td>2.0</td>\n",
       "      <td>1.0</td>\n",
       "      <td>2.0</td>\n",
       "      <td>1.0</td>\n",
       "      <td>22.0</td>\n",
       "      <td>18.0</td>\n",
       "    </tr>\n",
       "    <tr>\n",
       "      <th>19</th>\n",
       "      <td>19</td>\n",
       "      <td>42000102</td>\n",
       "      <td>1610612755</td>\n",
       "      <td>PHI</td>\n",
       "      <td>Philadelphia</td>\n",
       "      <td>1629680</td>\n",
       "      <td>Matisse Thybulle</td>\n",
       "      <td>NaN</td>\n",
       "      <td>NaN</td>\n",
       "      <td>19:55</td>\n",
       "      <td>...</td>\n",
       "      <td>0.0</td>\n",
       "      <td>0.0</td>\n",
       "      <td>0.0</td>\n",
       "      <td>0.0</td>\n",
       "      <td>4.0</td>\n",
       "      <td>5.0</td>\n",
       "      <td>0.0</td>\n",
       "      <td>1.0</td>\n",
       "      <td>5.0</td>\n",
       "      <td>9.0</td>\n",
       "    </tr>\n",
       "  </tbody>\n",
       "</table>\n",
       "<p>20 rows × 29 columns</p>\n",
       "</div>"
      ],
      "text/plain": [
       "    index   GAME_ID     TEAM_ID TEAM_ABBREVIATION     TEAM_CITY  PLAYER_ID  \\\n",
       "0       0  42000102  1610612764               WAS    Washington     203078   \n",
       "1       1  42000102  1610612764               WAS    Washington    1629060   \n",
       "2       2  42000102  1610612764               WAS    Washington     203458   \n",
       "3       3  42000102  1610612764               WAS    Washington     203526   \n",
       "4       4  42000102  1610612764               WAS    Washington     201566   \n",
       "5       5  42000102  1610612764               WAS    Washington     202722   \n",
       "6       6  42000102  1610612764               WAS    Washington     202397   \n",
       "7       7  42000102  1610612764               WAS    Washington    1629655   \n",
       "8       8  42000102  1610612764               WAS    Washington    1628990   \n",
       "9       9  42000102  1610612764               WAS    Washington     201577   \n",
       "10     10  42000102  1610612764               WAS    Washington    1630264   \n",
       "11     11  42000102  1610612764               WAS    Washington    1629726   \n",
       "12     12  42000102  1610612764               WAS    Washington    1630216   \n",
       "13     13  42000102  1610612764               WAS    Washington    1629067   \n",
       "14     14  42000102  1610612755               PHI  Philadelphia     201980   \n",
       "15     15  42000102  1610612755               PHI  Philadelphia     202699   \n",
       "16     16  42000102  1610612755               PHI  Philadelphia     203954   \n",
       "17     17  42000102  1610612755               PHI  Philadelphia     203552   \n",
       "18     18  42000102  1610612755               PHI  Philadelphia    1627732   \n",
       "19     19  42000102  1610612755               PHI  Philadelphia    1629680   \n",
       "\n",
       "           PLAYER_NAME START_POSITION COMMENT       MIN  ...  OREB  DREB  REB  \\\n",
       "0         Bradley Beal              F     NaN  34:36:00  ...   0.0   4.0  4.0   \n",
       "1        Rui Hachimura              F     NaN  25:50:00  ...   2.0   5.0  7.0   \n",
       "2             Alex Len              C     NaN     12:11  ...   3.0   2.0  5.0   \n",
       "3            Raul Neto              G     NaN     19:19  ...   1.0   2.0  3.0   \n",
       "4    Russell Westbrook              G     NaN  29:07:00  ...   2.0   4.0  6.0   \n",
       "5        Davis Bertans            NaN     NaN     23:43  ...   0.0   2.0  2.0   \n",
       "6            Ish Smith            NaN     NaN     23:20  ...   0.0   1.0  1.0   \n",
       "7       Daniel Gafford            NaN     NaN     20:00  ...   4.0   2.0  6.0   \n",
       "8   Chandler Hutchison            NaN     NaN     16:29  ...   0.0   2.0  2.0   \n",
       "9          Robin Lopez            NaN     NaN     10:15  ...   0.0   0.0  0.0   \n",
       "10        Anthony Gill            NaN     NaN      7:58  ...   0.0   1.0  1.0   \n",
       "11    Garrison Mathews            NaN     NaN      7:58  ...   0.0   1.0  1.0   \n",
       "12     Cassius Winston            NaN     NaN      5:29  ...   1.0   1.0  2.0   \n",
       "13         Isaac Bonga            NaN     NaN      3:45  ...   0.0   0.0  0.0   \n",
       "14         Danny Green              F     NaN     21:44  ...   1.0   1.0  2.0   \n",
       "15       Tobias Harris              F     NaN     23:17  ...   0.0   9.0  9.0   \n",
       "16         Joel Embiid              C     NaN  26:17:00  ...   0.0   7.0  7.0   \n",
       "17          Seth Curry              G     NaN     23:04  ...   0.0   0.0  0.0   \n",
       "18         Ben Simmons              G     NaN  28:34:00  ...   2.0   7.0  9.0   \n",
       "19    Matisse Thybulle            NaN     NaN     19:55  ...   0.0   0.0  0.0   \n",
       "\n",
       "     AST  STL  BLK   TO   PF   PTS  PLUS_MINUS  \n",
       "0    3.0  1.0  0.0  1.0  0.0  33.0       -22.0  \n",
       "1    1.0  0.0  0.0  3.0  4.0  11.0        -6.0  \n",
       "2    0.0  1.0  0.0  0.0  2.0   6.0       -11.0  \n",
       "3    1.0  0.0  0.0  0.0  2.0   4.0       -17.0  \n",
       "4   11.0  0.0  0.0  4.0  0.0  10.0       -16.0  \n",
       "5    0.0  0.0  0.0  0.0  6.0   0.0       -11.0  \n",
       "6    3.0  0.0  0.0  1.0  1.0  10.0       -10.0  \n",
       "7    1.0  1.0  1.0  1.0  1.0  11.0        -1.0  \n",
       "8    1.0  0.0  0.0  1.0  1.0   4.0       -17.0  \n",
       "9    0.0  0.0  0.0  0.0  2.0   4.0       -12.0  \n",
       "10   0.0  0.0  0.0  0.0  0.0   0.0        -1.0  \n",
       "11   0.0  0.0  0.0  0.0  1.0   0.0        -1.0  \n",
       "12   1.0  0.0  0.0  2.0  1.0   2.0        -2.0  \n",
       "13   0.0  0.0  1.0  0.0  0.0   0.0         2.0  \n",
       "14   2.0  0.0  2.0  1.0  2.0   5.0         8.0  \n",
       "15   1.0  1.0  0.0  1.0  2.0  19.0        11.0  \n",
       "16   3.0  0.0  0.0  1.0  1.0  22.0        19.0  \n",
       "17   3.0  0.0  0.0  0.0  2.0   9.0        19.0  \n",
       "18   8.0  2.0  1.0  2.0  1.0  22.0        18.0  \n",
       "19   0.0  4.0  5.0  0.0  1.0   5.0         9.0  \n",
       "\n",
       "[20 rows x 29 columns]"
      ]
     },
     "execution_count": 4,
     "metadata": {},
     "output_type": "execute_result"
    }
   ],
   "source": [
    "df.head(20)"
   ]
  },
  {
   "cell_type": "code",
   "execution_count": 5,
   "metadata": {
    "id": "YvXWeAYpxjUJ"
   },
   "outputs": [
    {
     "data": {
      "text/plain": [
       "index                  int64\n",
       "GAME_ID                int64\n",
       "TEAM_ID                int64\n",
       "TEAM_ABBREVIATION     object\n",
       "TEAM_CITY             object\n",
       "PLAYER_ID              int64\n",
       "PLAYER_NAME           object\n",
       "START_POSITION        object\n",
       "COMMENT               object\n",
       "MIN                   object\n",
       "FGM                  float64\n",
       "FGA                  float64\n",
       "FG_PCT               float64\n",
       "FG3M                 float64\n",
       "FG3A                 float64\n",
       "FG3_PCT              float64\n",
       "FTM                  float64\n",
       "FTA                  float64\n",
       "FT_PCT               float64\n",
       "OREB                 float64\n",
       "DREB                 float64\n",
       "REB                  float64\n",
       "AST                  float64\n",
       "STL                  float64\n",
       "BLK                  float64\n",
       "TO                   float64\n",
       "PF                   float64\n",
       "PTS                  float64\n",
       "PLUS_MINUS           float64\n",
       "dtype: object"
      ]
     },
     "execution_count": 5,
     "metadata": {},
     "output_type": "execute_result"
    }
   ],
   "source": [
    "df.dtypes"
   ]
  },
  {
   "cell_type": "code",
   "execution_count": 6,
   "metadata": {},
   "outputs": [
    {
     "data": {
      "text/html": [
       "<div>\n",
       "<style scoped>\n",
       "    .dataframe tbody tr th:only-of-type {\n",
       "        vertical-align: middle;\n",
       "    }\n",
       "\n",
       "    .dataframe tbody tr th {\n",
       "        vertical-align: top;\n",
       "    }\n",
       "\n",
       "    .dataframe thead th {\n",
       "        text-align: right;\n",
       "    }\n",
       "</style>\n",
       "<table border=\"1\" class=\"dataframe\">\n",
       "  <thead>\n",
       "    <tr style=\"text-align: right;\">\n",
       "      <th></th>\n",
       "      <th>index</th>\n",
       "      <th>GAME_ID</th>\n",
       "      <th>TEAM_ID</th>\n",
       "      <th>PLAYER_ID</th>\n",
       "      <th>FGM</th>\n",
       "      <th>FGA</th>\n",
       "      <th>FG_PCT</th>\n",
       "      <th>FG3M</th>\n",
       "      <th>FG3A</th>\n",
       "      <th>FG3_PCT</th>\n",
       "      <th>...</th>\n",
       "      <th>OREB</th>\n",
       "      <th>DREB</th>\n",
       "      <th>REB</th>\n",
       "      <th>AST</th>\n",
       "      <th>STL</th>\n",
       "      <th>BLK</th>\n",
       "      <th>TO</th>\n",
       "      <th>PF</th>\n",
       "      <th>PTS</th>\n",
       "      <th>PLUS_MINUS</th>\n",
       "    </tr>\n",
       "  </thead>\n",
       "  <tbody>\n",
       "    <tr>\n",
       "      <th>count</th>\n",
       "      <td>615626.000000</td>\n",
       "      <td>6.156260e+05</td>\n",
       "      <td>6.156260e+05</td>\n",
       "      <td>6.156260e+05</td>\n",
       "      <td>515577.000000</td>\n",
       "      <td>515577.000000</td>\n",
       "      <td>515577.000000</td>\n",
       "      <td>515577.000000</td>\n",
       "      <td>515577.000000</td>\n",
       "      <td>515577.000000</td>\n",
       "      <td>...</td>\n",
       "      <td>515577.000000</td>\n",
       "      <td>515577.000000</td>\n",
       "      <td>515577.000000</td>\n",
       "      <td>515577.000000</td>\n",
       "      <td>515577.000000</td>\n",
       "      <td>515577.000000</td>\n",
       "      <td>515577.000000</td>\n",
       "      <td>515577.000000</td>\n",
       "      <td>515577.000000</td>\n",
       "      <td>491916.000000</td>\n",
       "    </tr>\n",
       "    <tr>\n",
       "      <th>mean</th>\n",
       "      <td>307812.500000</td>\n",
       "      <td>2.161226e+07</td>\n",
       "      <td>1.610613e+09</td>\n",
       "      <td>3.312993e+05</td>\n",
       "      <td>3.575898</td>\n",
       "      <td>7.879867</td>\n",
       "      <td>0.415921</td>\n",
       "      <td>0.747698</td>\n",
       "      <td>2.098759</td>\n",
       "      <td>0.196683</td>\n",
       "      <td>...</td>\n",
       "      <td>1.030374</td>\n",
       "      <td>3.026037</td>\n",
       "      <td>4.056411</td>\n",
       "      <td>2.091259</td>\n",
       "      <td>0.723211</td>\n",
       "      <td>0.462284</td>\n",
       "      <td>1.326853</td>\n",
       "      <td>2.011872</td>\n",
       "      <td>9.644098</td>\n",
       "      <td>-0.000362</td>\n",
       "    </tr>\n",
       "    <tr>\n",
       "      <th>std</th>\n",
       "      <td>177716.062747</td>\n",
       "      <td>5.548896e+06</td>\n",
       "      <td>8.651776e+00</td>\n",
       "      <td>7.523708e+06</td>\n",
       "      <td>3.017828</td>\n",
       "      <td>5.653108</td>\n",
       "      <td>0.251533</td>\n",
       "      <td>1.200864</td>\n",
       "      <td>2.510032</td>\n",
       "      <td>0.289237</td>\n",
       "      <td>...</td>\n",
       "      <td>1.403506</td>\n",
       "      <td>2.684467</td>\n",
       "      <td>3.487935</td>\n",
       "      <td>2.470334</td>\n",
       "      <td>0.974858</td>\n",
       "      <td>0.867013</td>\n",
       "      <td>1.402367</td>\n",
       "      <td>1.503917</td>\n",
       "      <td>8.035642</td>\n",
       "      <td>10.602770</td>\n",
       "    </tr>\n",
       "    <tr>\n",
       "      <th>min</th>\n",
       "      <td>0.000000</td>\n",
       "      <td>1.030000e+07</td>\n",
       "      <td>1.610613e+09</td>\n",
       "      <td>1.500000e+01</td>\n",
       "      <td>0.000000</td>\n",
       "      <td>0.000000</td>\n",
       "      <td>0.000000</td>\n",
       "      <td>0.000000</td>\n",
       "      <td>0.000000</td>\n",
       "      <td>0.000000</td>\n",
       "      <td>...</td>\n",
       "      <td>0.000000</td>\n",
       "      <td>0.000000</td>\n",
       "      <td>0.000000</td>\n",
       "      <td>0.000000</td>\n",
       "      <td>0.000000</td>\n",
       "      <td>0.000000</td>\n",
       "      <td>0.000000</td>\n",
       "      <td>0.000000</td>\n",
       "      <td>0.000000</td>\n",
       "      <td>-57.000000</td>\n",
       "    </tr>\n",
       "    <tr>\n",
       "      <th>25%</th>\n",
       "      <td>153906.250000</td>\n",
       "      <td>2.060092e+07</td>\n",
       "      <td>1.610613e+09</td>\n",
       "      <td>2.412000e+03</td>\n",
       "      <td>1.000000</td>\n",
       "      <td>3.000000</td>\n",
       "      <td>0.250000</td>\n",
       "      <td>0.000000</td>\n",
       "      <td>0.000000</td>\n",
       "      <td>0.000000</td>\n",
       "      <td>...</td>\n",
       "      <td>0.000000</td>\n",
       "      <td>1.000000</td>\n",
       "      <td>1.000000</td>\n",
       "      <td>0.000000</td>\n",
       "      <td>0.000000</td>\n",
       "      <td>0.000000</td>\n",
       "      <td>0.000000</td>\n",
       "      <td>1.000000</td>\n",
       "      <td>3.000000</td>\n",
       "      <td>-7.000000</td>\n",
       "    </tr>\n",
       "    <tr>\n",
       "      <th>50%</th>\n",
       "      <td>307812.500000</td>\n",
       "      <td>2.120012e+07</td>\n",
       "      <td>1.610613e+09</td>\n",
       "      <td>2.008260e+05</td>\n",
       "      <td>3.000000</td>\n",
       "      <td>7.000000</td>\n",
       "      <td>0.429000</td>\n",
       "      <td>0.000000</td>\n",
       "      <td>1.000000</td>\n",
       "      <td>0.000000</td>\n",
       "      <td>...</td>\n",
       "      <td>1.000000</td>\n",
       "      <td>2.000000</td>\n",
       "      <td>3.000000</td>\n",
       "      <td>1.000000</td>\n",
       "      <td>0.000000</td>\n",
       "      <td>0.000000</td>\n",
       "      <td>1.000000</td>\n",
       "      <td>2.000000</td>\n",
       "      <td>8.000000</td>\n",
       "      <td>0.000000</td>\n",
       "    </tr>\n",
       "    <tr>\n",
       "      <th>75%</th>\n",
       "      <td>461718.750000</td>\n",
       "      <td>2.160122e+07</td>\n",
       "      <td>1.610613e+09</td>\n",
       "      <td>2.030820e+05</td>\n",
       "      <td>5.000000</td>\n",
       "      <td>11.000000</td>\n",
       "      <td>0.571000</td>\n",
       "      <td>1.000000</td>\n",
       "      <td>3.000000</td>\n",
       "      <td>0.375000</td>\n",
       "      <td>...</td>\n",
       "      <td>2.000000</td>\n",
       "      <td>4.000000</td>\n",
       "      <td>6.000000</td>\n",
       "      <td>3.000000</td>\n",
       "      <td>1.000000</td>\n",
       "      <td>1.000000</td>\n",
       "      <td>2.000000</td>\n",
       "      <td>3.000000</td>\n",
       "      <td>14.000000</td>\n",
       "      <td>6.000000</td>\n",
       "    </tr>\n",
       "    <tr>\n",
       "      <th>max</th>\n",
       "      <td>615625.000000</td>\n",
       "      <td>5.200021e+07</td>\n",
       "      <td>1.610613e+09</td>\n",
       "      <td>1.962938e+09</td>\n",
       "      <td>28.000000</td>\n",
       "      <td>50.000000</td>\n",
       "      <td>1.000000</td>\n",
       "      <td>14.000000</td>\n",
       "      <td>24.000000</td>\n",
       "      <td>1.000000</td>\n",
       "      <td>...</td>\n",
       "      <td>18.000000</td>\n",
       "      <td>25.000000</td>\n",
       "      <td>31.000000</td>\n",
       "      <td>25.000000</td>\n",
       "      <td>10.000000</td>\n",
       "      <td>12.000000</td>\n",
       "      <td>12.000000</td>\n",
       "      <td>15.000000</td>\n",
       "      <td>81.000000</td>\n",
       "      <td>57.000000</td>\n",
       "    </tr>\n",
       "  </tbody>\n",
       "</table>\n",
       "<p>8 rows × 23 columns</p>\n",
       "</div>"
      ],
      "text/plain": [
       "               index       GAME_ID       TEAM_ID     PLAYER_ID            FGM  \\\n",
       "count  615626.000000  6.156260e+05  6.156260e+05  6.156260e+05  515577.000000   \n",
       "mean   307812.500000  2.161226e+07  1.610613e+09  3.312993e+05       3.575898   \n",
       "std    177716.062747  5.548896e+06  8.651776e+00  7.523708e+06       3.017828   \n",
       "min         0.000000  1.030000e+07  1.610613e+09  1.500000e+01       0.000000   \n",
       "25%    153906.250000  2.060092e+07  1.610613e+09  2.412000e+03       1.000000   \n",
       "50%    307812.500000  2.120012e+07  1.610613e+09  2.008260e+05       3.000000   \n",
       "75%    461718.750000  2.160122e+07  1.610613e+09  2.030820e+05       5.000000   \n",
       "max    615625.000000  5.200021e+07  1.610613e+09  1.962938e+09      28.000000   \n",
       "\n",
       "                 FGA         FG_PCT           FG3M           FG3A  \\\n",
       "count  515577.000000  515577.000000  515577.000000  515577.000000   \n",
       "mean        7.879867       0.415921       0.747698       2.098759   \n",
       "std         5.653108       0.251533       1.200864       2.510032   \n",
       "min         0.000000       0.000000       0.000000       0.000000   \n",
       "25%         3.000000       0.250000       0.000000       0.000000   \n",
       "50%         7.000000       0.429000       0.000000       1.000000   \n",
       "75%        11.000000       0.571000       1.000000       3.000000   \n",
       "max        50.000000       1.000000      14.000000      24.000000   \n",
       "\n",
       "             FG3_PCT  ...           OREB           DREB            REB  \\\n",
       "count  515577.000000  ...  515577.000000  515577.000000  515577.000000   \n",
       "mean        0.196683  ...       1.030374       3.026037       4.056411   \n",
       "std         0.289237  ...       1.403506       2.684467       3.487935   \n",
       "min         0.000000  ...       0.000000       0.000000       0.000000   \n",
       "25%         0.000000  ...       0.000000       1.000000       1.000000   \n",
       "50%         0.000000  ...       1.000000       2.000000       3.000000   \n",
       "75%         0.375000  ...       2.000000       4.000000       6.000000   \n",
       "max         1.000000  ...      18.000000      25.000000      31.000000   \n",
       "\n",
       "                 AST            STL            BLK             TO  \\\n",
       "count  515577.000000  515577.000000  515577.000000  515577.000000   \n",
       "mean        2.091259       0.723211       0.462284       1.326853   \n",
       "std         2.470334       0.974858       0.867013       1.402367   \n",
       "min         0.000000       0.000000       0.000000       0.000000   \n",
       "25%         0.000000       0.000000       0.000000       0.000000   \n",
       "50%         1.000000       0.000000       0.000000       1.000000   \n",
       "75%         3.000000       1.000000       1.000000       2.000000   \n",
       "max        25.000000      10.000000      12.000000      12.000000   \n",
       "\n",
       "                  PF            PTS     PLUS_MINUS  \n",
       "count  515577.000000  515577.000000  491916.000000  \n",
       "mean        2.011872       9.644098      -0.000362  \n",
       "std         1.503917       8.035642      10.602770  \n",
       "min         0.000000       0.000000     -57.000000  \n",
       "25%         1.000000       3.000000      -7.000000  \n",
       "50%         2.000000       8.000000       0.000000  \n",
       "75%         3.000000      14.000000       6.000000  \n",
       "max        15.000000      81.000000      57.000000  \n",
       "\n",
       "[8 rows x 23 columns]"
      ]
     },
     "execution_count": 6,
     "metadata": {},
     "output_type": "execute_result"
    }
   ],
   "source": [
    "df.describe()"
   ]
  },
  {
   "cell_type": "markdown",
   "metadata": {
    "id": "994ieBJTjzc3"
   },
   "source": [
    "Lets also change the data types of the given ids since we will not be using them to do any math related tasks"
   ]
  },
  {
   "cell_type": "code",
   "execution_count": 7,
   "metadata": {
    "id": "T4-LqZ_jj67b"
   },
   "outputs": [],
   "source": [
    "df['GAME_ID'] = df['GAME_ID'].astype(str)\n",
    "df['TEAM_ID'] = df['TEAM_ID'].astype(str)\n",
    "df['PLAYER_ID'] = df['PLAYER_ID'].astype(str)\n"
   ]
  },
  {
   "cell_type": "markdown",
   "metadata": {
    "id": "_o4rJ25IiNge"
   },
   "source": [
    "Lets check and see if we have any null values"
   ]
  },
  {
   "cell_type": "code",
   "execution_count": 8,
   "metadata": {},
   "outputs": [
    {
     "data": {
      "text/plain": [
       "index                     0\n",
       "GAME_ID                   0\n",
       "TEAM_ID                   0\n",
       "TEAM_ABBREVIATION         0\n",
       "TEAM_CITY                 0\n",
       "PLAYER_ID                 0\n",
       "PLAYER_NAME               0\n",
       "START_POSITION       379831\n",
       "COMMENT              515578\n",
       "MIN                  100049\n",
       "FGM                  100049\n",
       "FGA                  100049\n",
       "FG_PCT               100049\n",
       "FG3M                 100049\n",
       "FG3A                 100049\n",
       "FG3_PCT              100049\n",
       "FTM                  100049\n",
       "FTA                  100049\n",
       "FT_PCT               100049\n",
       "OREB                 100049\n",
       "DREB                 100049\n",
       "REB                  100049\n",
       "AST                  100049\n",
       "STL                  100049\n",
       "BLK                  100049\n",
       "TO                   100049\n",
       "PF                   100049\n",
       "PTS                  100049\n",
       "PLUS_MINUS           123710\n",
       "dtype: int64"
      ]
     },
     "execution_count": 8,
     "metadata": {},
     "output_type": "execute_result"
    }
   ],
   "source": [
    "df.isnull().sum()"
   ]
  },
  {
   "cell_type": "markdown",
   "metadata": {
    "id": "Gd0qZjkyq1i0"
   },
   "source": [
    "There are some players who did not play so lets delete them  from the dataset. We can also drop the comment, MIN, and Start position columns as well!"
   ]
  },
  {
   "cell_type": "code",
   "execution_count": 9,
   "metadata": {
    "id": "9MArijoRqwKb",
    "scrolled": true
   },
   "outputs": [],
   "source": [
    "df = df[df['PLUS_MINUS'].notna()]\n",
    "del df[\"COMMENT\"]\n",
    "del df[\"START_POSITION\"]\n",
    "del df['MIN']"
   ]
  },
  {
   "cell_type": "code",
   "execution_count": 10,
   "metadata": {},
   "outputs": [
    {
     "data": {
      "text/plain": [
       "index                0\n",
       "GAME_ID              0\n",
       "TEAM_ID              0\n",
       "TEAM_ABBREVIATION    0\n",
       "TEAM_CITY            0\n",
       "PLAYER_ID            0\n",
       "PLAYER_NAME          0\n",
       "FGM                  0\n",
       "FGA                  0\n",
       "FG_PCT               0\n",
       "FG3M                 0\n",
       "FG3A                 0\n",
       "FG3_PCT              0\n",
       "FTM                  0\n",
       "FTA                  0\n",
       "FT_PCT               0\n",
       "OREB                 0\n",
       "DREB                 0\n",
       "REB                  0\n",
       "AST                  0\n",
       "STL                  0\n",
       "BLK                  0\n",
       "TO                   0\n",
       "PF                   0\n",
       "PTS                  0\n",
       "PLUS_MINUS           0\n",
       "dtype: int64"
      ]
     },
     "execution_count": 10,
     "metadata": {},
     "output_type": "execute_result"
    }
   ],
   "source": [
    "df.isnull().sum()"
   ]
  },
  {
   "cell_type": "code",
   "execution_count": 11,
   "metadata": {
    "id": "MOk0Q5B8RloS"
   },
   "outputs": [],
   "source": [
    "#grouped rows by teamid and game id\n",
    "teamdf = df.groupby(['GAME_ID', 'TEAM_ID']).sum().reset_index()\n",
    "\n",
    "\n",
    "\n",
    "#'FG2M', 'FG2A', 'FG2_PCT' #These values were incorrect as they should not be summed\n",
    "teamdf[['FG3_PCT']] = teamdf['FG3M'].div(teamdf['FG3A'].values,axis=0)\n",
    "teamdf[['FG_PCT']] = teamdf['FGM'].div(teamdf['FGA'].values,axis=0)\n",
    "teamdf[['FT_PCT']] = teamdf['FTM'].div(teamdf['FTA'].values,axis=0)\n",
    "\n",
    "\n",
    "teamdf = teamdf.groupby(['GAME_ID', 'TEAM_ID']).sum().reset_index()\n",
    "#add point differential to columns\n",
    "teamdf['PTDIFFERENTIAL'] = teamdf['PLUS_MINUS']/5"
   ]
  },
  {
   "cell_type": "markdown",
   "metadata": {
    "id": "T26QFI7N21vI"
   },
   "source": [
    "Lets look at correlation as I expect multicollinearity"
   ]
  },
  {
   "cell_type": "code",
   "execution_count": 12,
   "metadata": {
    "colab": {
     "base_uri": "https://localhost:8080/",
     "height": 651
    },
    "id": "ynev5cH92x5B",
    "outputId": "21836f2d-9413-4037-d8e3-31a02c188e0e"
   },
   "outputs": [
    {
     "data": {
      "image/png": "[encoded data removed]",
      "text/plain": [
       "<Figure size 1368x1080 with 2 Axes>"
      ]
     },
     "metadata": {
      "needs_background": "light"
     },
     "output_type": "display_data"
    }
   ],
   "source": [
    "f = plt.figure(figsize=(19, 15))\n",
    "plt.matshow(teamdf.corr(), fignum=f.number)\n",
    "plt.xticks(range(teamdf.select_dtypes(['number']).shape[1]), teamdf.select_dtypes(['number']).columns, fontsize=14, rotation=45)\n",
    "plt.yticks(range(teamdf.select_dtypes(['number']).shape[1]), teamdf.select_dtypes(['number']).columns, fontsize=14)\n",
    "cb = plt.colorbar()\n",
    "cb.ax.tick_params(labelsize=14)\n",
    "plt.title('Correlation Matrix', fontsize=16);"
   ]
  },
  {
   "cell_type": "code",
   "execution_count": 13,
   "metadata": {},
   "outputs": [],
   "source": [
    "#As expected there is some high correlation\n",
    "#as expected there are several highly correlated variables\n",
    "#since this is the case \n",
    "#we will drop the points column and add the needed columns for 2 pts shots to replace the fgm section\n",
    "#We will also drop the rebound column as that is dependent on the oreb and dreb columns\n",
    "#Makes and percentages are also correlated\n",
    "\n",
    "teamdf['FG2A'] = teamdf['FGA']-teamdf['FG3A']\n",
    "teamdf['FG2M'] = teamdf['FGM']-teamdf['FG3M']\n",
    "teamdf['FG2_PCT'] = teamdf['FG2M']/teamdf['FG2A']\n",
    "\n",
    "\n",
    "del teamdf[\"FGM\"]\n",
    "del teamdf[\"FGA\"]\n",
    "del teamdf['FG_PCT']\n",
    "\n",
    "del teamdf['FG2M']\n",
    "del teamdf['FG3M']\n",
    "\n",
    "del teamdf['FTM']\n",
    "\n",
    "del teamdf['PTS']\n",
    "del teamdf['REB']\n",
    "\n",
    "#del teamdf['PLAYER_ID']"
   ]
  },
  {
   "cell_type": "code",
   "execution_count": 14,
   "metadata": {},
   "outputs": [
    {
     "data": {
      "text/html": [
       "<style  type=\"text/css\" >\n",
       "#T_121cf_row0_col0,#T_121cf_row1_col1,#T_121cf_row2_col2,#T_121cf_row3_col3,#T_121cf_row4_col4,#T_121cf_row5_col5,#T_121cf_row6_col6,#T_121cf_row7_col7,#T_121cf_row8_col8,#T_121cf_row9_col9,#T_121cf_row10_col10,#T_121cf_row11_col11,#T_121cf_row12_col12,#T_121cf_row12_col13,#T_121cf_row13_col12,#T_121cf_row13_col13,#T_121cf_row14_col14,#T_121cf_row15_col15{\n",
       "            background-color:  #b40426;\n",
       "            color:  #f1f1f1;\n",
       "        }#T_121cf_row0_col1{\n",
       "            background-color:  #c3d5f4;\n",
       "            color:  #000000;\n",
       "        }#T_121cf_row0_col2{\n",
       "            background-color:  #6687ed;\n",
       "            color:  #000000;\n",
       "        }#T_121cf_row0_col3,#T_121cf_row3_col4,#T_121cf_row10_col9,#T_121cf_row14_col3{\n",
       "            background-color:  #4f69d9;\n",
       "            color:  #000000;\n",
       "        }#T_121cf_row0_col4,#T_121cf_row2_col0,#T_121cf_row4_col11,#T_121cf_row10_col4,#T_121cf_row11_col6,#T_121cf_row11_col12,#T_121cf_row11_col13,#T_121cf_row15_col0{\n",
       "            background-color:  #4c66d6;\n",
       "            color:  #000000;\n",
       "        }#T_121cf_row0_col5,#T_121cf_row3_col15,#T_121cf_row4_col12,#T_121cf_row4_col13{\n",
       "            background-color:  #84a7fc;\n",
       "            color:  #000000;\n",
       "        }#T_121cf_row0_col6,#T_121cf_row4_col2,#T_121cf_row5_col10,#T_121cf_row14_col8{\n",
       "            background-color:  #7295f4;\n",
       "            color:  #000000;\n",
       "        }#T_121cf_row0_col7,#T_121cf_row1_col8,#T_121cf_row4_col7,#T_121cf_row11_col2{\n",
       "            background-color:  #6a8bef;\n",
       "            color:  #000000;\n",
       "        }#T_121cf_row0_col8,#T_121cf_row2_col10,#T_121cf_row15_col2{\n",
       "            background-color:  #6e90f2;\n",
       "            color:  #000000;\n",
       "        }#T_121cf_row0_col9,#T_121cf_row5_col9,#T_121cf_row11_col0{\n",
       "            background-color:  #4257c9;\n",
       "            color:  #f1f1f1;\n",
       "        }#T_121cf_row0_col10,#T_121cf_row12_col9,#T_121cf_row13_col9,#T_121cf_row15_col6,#T_121cf_row15_col10{\n",
       "            background-color:  #779af7;\n",
       "            color:  #000000;\n",
       "        }#T_121cf_row0_col11,#T_121cf_row2_col9{\n",
       "            background-color:  #3f53c6;\n",
       "            color:  #f1f1f1;\n",
       "        }#T_121cf_row0_col12,#T_121cf_row0_col13,#T_121cf_row1_col0,#T_121cf_row3_col6,#T_121cf_row5_col8,#T_121cf_row11_col8,#T_121cf_row15_col8{\n",
       "            background-color:  #6282ea;\n",
       "            color:  #000000;\n",
       "        }#T_121cf_row0_col14{\n",
       "            background-color:  #b3cdfb;\n",
       "            color:  #000000;\n",
       "        }#T_121cf_row0_col15{\n",
       "            background-color:  #89acfd;\n",
       "            color:  #000000;\n",
       "        }#T_121cf_row1_col2,#T_121cf_row6_col5,#T_121cf_row10_col8{\n",
       "            background-color:  #7ea1fa;\n",
       "            color:  #000000;\n",
       "        }#T_121cf_row1_col3{\n",
       "            background-color:  #3e51c5;\n",
       "            color:  #f1f1f1;\n",
       "        }#T_121cf_row1_col4,#T_121cf_row2_col6{\n",
       "            background-color:  #6180e9;\n",
       "            color:  #000000;\n",
       "        }#T_121cf_row1_col5,#T_121cf_row9_col7{\n",
       "            background-color:  #7b9ff9;\n",
       "            color:  #000000;\n",
       "        }#T_121cf_row1_col6,#T_121cf_row4_col14,#T_121cf_row6_col14{\n",
       "            background-color:  #aec9fc;\n",
       "            color:  #000000;\n",
       "        }#T_121cf_row1_col7{\n",
       "            background-color:  #bcd2f7;\n",
       "            color:  #000000;\n",
       "        }#T_121cf_row1_col9,#T_121cf_row1_col14,#T_121cf_row3_col0,#T_121cf_row3_col7,#T_121cf_row4_col9,#T_121cf_row5_col2,#T_121cf_row5_col4,#T_121cf_row5_col15,#T_121cf_row6_col8,#T_121cf_row7_col3,#T_121cf_row8_col6,#T_121cf_row10_col12,#T_121cf_row10_col13,#T_121cf_row12_col11,#T_121cf_row13_col11,#T_121cf_row14_col1,#T_121cf_row14_col10,#T_121cf_row15_col5{\n",
       "            background-color:  #3b4cc0;\n",
       "            color:  #f1f1f1;\n",
       "        }#T_121cf_row1_col10,#T_121cf_row4_col10,#T_121cf_row8_col2{\n",
       "            background-color:  #6485ec;\n",
       "            color:  #000000;\n",
       "        }#T_121cf_row1_col11,#T_121cf_row5_col7{\n",
       "            background-color:  #445acc;\n",
       "            color:  #f1f1f1;\n",
       "        }#T_121cf_row1_col12,#T_121cf_row1_col13{\n",
       "            background-color:  #7093f3;\n",
       "            color:  #000000;\n",
       "        }#T_121cf_row1_col15,#T_121cf_row8_col1,#T_121cf_row11_col14,#T_121cf_row12_col1,#T_121cf_row13_col1{\n",
       "            background-color:  #c1d4f4;\n",
       "            color:  #000000;\n",
       "        }#T_121cf_row2_col1{\n",
       "            background-color:  #c5d6f2;\n",
       "            color:  #000000;\n",
       "        }#T_121cf_row2_col3{\n",
       "            background-color:  #5470de;\n",
       "            color:  #000000;\n",
       "        }#T_121cf_row2_col4,#T_121cf_row5_col11,#T_121cf_row11_col7,#T_121cf_row14_col7{\n",
       "            background-color:  #5b7ae5;\n",
       "            color:  #000000;\n",
       "        }#T_121cf_row2_col5,#T_121cf_row7_col10{\n",
       "            background-color:  #5f7fe8;\n",
       "            color:  #000000;\n",
       "        }#T_121cf_row2_col7{\n",
       "            background-color:  #c7d7f0;\n",
       "            color:  #000000;\n",
       "        }#T_121cf_row2_col8,#T_121cf_row4_col8,#T_121cf_row6_col4,#T_121cf_row8_col11{\n",
       "            background-color:  #5673e0;\n",
       "            color:  #000000;\n",
       "        }#T_121cf_row2_col11,#T_121cf_row9_col11{\n",
       "            background-color:  #4e68d8;\n",
       "            color:  #000000;\n",
       "        }#T_121cf_row2_col12,#T_121cf_row2_col13,#T_121cf_row7_col2{\n",
       "            background-color:  #cbd8ee;\n",
       "            color:  #000000;\n",
       "        }#T_121cf_row2_col14,#T_121cf_row9_col12,#T_121cf_row9_col13,#T_121cf_row11_col5{\n",
       "            background-color:  #98b9ff;\n",
       "            color:  #000000;\n",
       "        }#T_121cf_row2_col15,#T_121cf_row7_col6{\n",
       "            background-color:  #92b4fe;\n",
       "            color:  #000000;\n",
       "        }#T_121cf_row3_col1,#T_121cf_row6_col7{\n",
       "            background-color:  #9abbff;\n",
       "            color:  #000000;\n",
       "        }#T_121cf_row3_col2,#T_121cf_row5_col12,#T_121cf_row5_col13,#T_121cf_row7_col4,#T_121cf_row15_col3,#T_121cf_row15_col4{\n",
       "            background-color:  #5a78e4;\n",
       "            color:  #000000;\n",
       "        }#T_121cf_row3_col5{\n",
       "            background-color:  #a5c3fe;\n",
       "            color:  #000000;\n",
       "        }#T_121cf_row3_col8,#T_121cf_row9_col2,#T_121cf_row9_col3{\n",
       "            background-color:  #6c8ff1;\n",
       "            color:  #000000;\n",
       "        }#T_121cf_row3_col9,#T_121cf_row5_col0{\n",
       "            background-color:  #465ecf;\n",
       "            color:  #f1f1f1;\n",
       "        }#T_121cf_row3_col10,#T_121cf_row6_col9,#T_121cf_row9_col10,#T_121cf_row12_col3,#T_121cf_row13_col3,#T_121cf_row15_col14{\n",
       "            background-color:  #7da0f9;\n",
       "            color:  #000000;\n",
       "        }#T_121cf_row3_col11{\n",
       "            background-color:  #9fbfff;\n",
       "            color:  #000000;\n",
       "        }#T_121cf_row3_col12,#T_121cf_row3_col13,#T_121cf_row12_col4,#T_121cf_row13_col4{\n",
       "            background-color:  #799cf8;\n",
       "            color:  #000000;\n",
       "        }#T_121cf_row3_col14,#T_121cf_row6_col15,#T_121cf_row11_col10{\n",
       "            background-color:  #a6c4fe;\n",
       "            color:  #000000;\n",
       "        }#T_121cf_row4_col0,#T_121cf_row15_col9{\n",
       "            background-color:  #4961d2;\n",
       "            color:  #f1f1f1;\n",
       "        }#T_121cf_row4_col1{\n",
       "            background-color:  #bfd3f6;\n",
       "            color:  #000000;\n",
       "        }#T_121cf_row4_col3,#T_121cf_row9_col8,#T_121cf_row14_col11{\n",
       "            background-color:  #5e7de7;\n",
       "            color:  #000000;\n",
       "        }#T_121cf_row4_col5,#T_121cf_row10_col3{\n",
       "            background-color:  #7597f6;\n",
       "            color:  #000000;\n",
       "        }#T_121cf_row4_col6,#T_121cf_row10_col0{\n",
       "            background-color:  #5d7ce6;\n",
       "            color:  #000000;\n",
       "        }#T_121cf_row4_col15,#T_121cf_row8_col5,#T_121cf_row10_col5{\n",
       "            background-color:  #93b5fe;\n",
       "            color:  #000000;\n",
       "        }#T_121cf_row5_col1{\n",
       "            background-color:  #a9c6fd;\n",
       "            color:  #000000;\n",
       "        }#T_121cf_row5_col3{\n",
       "            background-color:  #81a4fb;\n",
       "            color:  #000000;\n",
       "        }#T_121cf_row5_col6{\n",
       "            background-color:  #4b64d5;\n",
       "            color:  #f1f1f1;\n",
       "        }#T_121cf_row5_col14{\n",
       "            background-color:  #f7bca1;\n",
       "            color:  #000000;\n",
       "        }#T_121cf_row6_col0{\n",
       "            background-color:  #6788ee;\n",
       "            color:  #000000;\n",
       "        }#T_121cf_row6_col1{\n",
       "            background-color:  #e7d7ce;\n",
       "            color:  #000000;\n",
       "        }#T_121cf_row6_col2,#T_121cf_row7_col5{\n",
       "            background-color:  #6f92f3;\n",
       "            color:  #000000;\n",
       "        }#T_121cf_row6_col3,#T_121cf_row10_col2{\n",
       "            background-color:  #6b8df0;\n",
       "            color:  #000000;\n",
       "        }#T_121cf_row6_col10,#T_121cf_row8_col12,#T_121cf_row8_col13,#T_121cf_row8_col15{\n",
       "            background-color:  #94b6ff;\n",
       "            color:  #000000;\n",
       "        }#T_121cf_row6_col11,#T_121cf_row8_col9{\n",
       "            background-color:  #4055c8;\n",
       "            color:  #f1f1f1;\n",
       "        }#T_121cf_row6_col12,#T_121cf_row6_col13{\n",
       "            background-color:  #d5dbe5;\n",
       "            color:  #000000;\n",
       "        }#T_121cf_row7_col0,#T_121cf_row7_col9,#T_121cf_row9_col0{\n",
       "            background-color:  #5572df;\n",
       "            color:  #000000;\n",
       "        }#T_121cf_row7_col1{\n",
       "            background-color:  #ead4c8;\n",
       "            color:  #000000;\n",
       "        }#T_121cf_row7_col8{\n",
       "            background-color:  #7a9df8;\n",
       "            color:  #000000;\n",
       "        }#T_121cf_row7_col11,#T_121cf_row12_col10,#T_121cf_row13_col10{\n",
       "            background-color:  #455cce;\n",
       "            color:  #f1f1f1;\n",
       "        }#T_121cf_row7_col12,#T_121cf_row7_col13,#T_121cf_row15_col12,#T_121cf_row15_col13{\n",
       "            background-color:  #d7dce3;\n",
       "            color:  #000000;\n",
       "        }#T_121cf_row7_col14,#T_121cf_row11_col3{\n",
       "            background-color:  #b1cbfc;\n",
       "            color:  #000000;\n",
       "        }#T_121cf_row7_col15{\n",
       "            background-color:  #f2cbb7;\n",
       "            color:  #000000;\n",
       "        }#T_121cf_row8_col0{\n",
       "            background-color:  #6384eb;\n",
       "            color:  #000000;\n",
       "        }#T_121cf_row8_col3{\n",
       "            background-color:  #7699f6;\n",
       "            color:  #000000;\n",
       "        }#T_121cf_row8_col4,#T_121cf_row14_col6{\n",
       "            background-color:  #506bda;\n",
       "            color:  #000000;\n",
       "        }#T_121cf_row8_col7{\n",
       "            background-color:  #82a6fb;\n",
       "            color:  #000000;\n",
       "        }#T_121cf_row8_col10,#T_121cf_row10_col14,#T_121cf_row12_col8,#T_121cf_row13_col8{\n",
       "            background-color:  #8fb1fe;\n",
       "            color:  #000000;\n",
       "        }#T_121cf_row8_col14{\n",
       "            background-color:  #c6d6f1;\n",
       "            color:  #000000;\n",
       "        }#T_121cf_row9_col1{\n",
       "            background-color:  #b5cdfa;\n",
       "            color:  #000000;\n",
       "        }#T_121cf_row9_col4,#T_121cf_row12_col0,#T_121cf_row13_col0,#T_121cf_row14_col12,#T_121cf_row14_col13{\n",
       "            background-color:  #516ddb;\n",
       "            color:  #000000;\n",
       "        }#T_121cf_row9_col5{\n",
       "            background-color:  #90b2fe;\n",
       "            color:  #000000;\n",
       "        }#T_121cf_row9_col6,#T_121cf_row9_col15,#T_121cf_row10_col15{\n",
       "            background-color:  #97b8ff;\n",
       "            color:  #000000;\n",
       "        }#T_121cf_row9_col14{\n",
       "            background-color:  #bed2f6;\n",
       "            color:  #000000;\n",
       "        }#T_121cf_row10_col1{\n",
       "            background-color:  #b2ccfb;\n",
       "            color:  #000000;\n",
       "        }#T_121cf_row10_col6{\n",
       "            background-color:  #85a8fc;\n",
       "            color:  #000000;\n",
       "        }#T_121cf_row10_col7{\n",
       "            background-color:  #5875e1;\n",
       "            color:  #000000;\n",
       "        }#T_121cf_row10_col11{\n",
       "            background-color:  #8caffe;\n",
       "            color:  #000000;\n",
       "        }#T_121cf_row11_col1{\n",
       "            background-color:  #afcafc;\n",
       "            color:  #000000;\n",
       "        }#T_121cf_row11_col4{\n",
       "            background-color:  #536edd;\n",
       "            color:  #000000;\n",
       "        }#T_121cf_row11_col9{\n",
       "            background-color:  #3d50c3;\n",
       "            color:  #f1f1f1;\n",
       "        }#T_121cf_row11_col15{\n",
       "            background-color:  #88abfd;\n",
       "            color:  #000000;\n",
       "        }#T_121cf_row12_col2,#T_121cf_row13_col2{\n",
       "            background-color:  #cfdaea;\n",
       "            color:  #000000;\n",
       "        }#T_121cf_row12_col5,#T_121cf_row13_col5{\n",
       "            background-color:  #86a9fc;\n",
       "            color:  #000000;\n",
       "        }#T_121cf_row12_col6,#T_121cf_row13_col6{\n",
       "            background-color:  #d2dbe8;\n",
       "            color:  #000000;\n",
       "        }#T_121cf_row12_col7,#T_121cf_row13_col7{\n",
       "            background-color:  #d9dce1;\n",
       "            color:  #000000;\n",
       "        }#T_121cf_row12_col14,#T_121cf_row13_col14{\n",
       "            background-color:  #abc8fd;\n",
       "            color:  #000000;\n",
       "        }#T_121cf_row12_col15,#T_121cf_row13_col15{\n",
       "            background-color:  #ead5c9;\n",
       "            color:  #000000;\n",
       "        }#T_121cf_row14_col0,#T_121cf_row14_col15{\n",
       "            background-color:  #4a63d3;\n",
       "            color:  #f1f1f1;\n",
       "        }#T_121cf_row14_col2{\n",
       "            background-color:  #4358cb;\n",
       "            color:  #f1f1f1;\n",
       "        }#T_121cf_row14_col4,#T_121cf_row14_col9,#T_121cf_row15_col11{\n",
       "            background-color:  #485fd1;\n",
       "            color:  #f1f1f1;\n",
       "        }#T_121cf_row14_col5{\n",
       "            background-color:  #f0cdbb;\n",
       "            color:  #000000;\n",
       "        }#T_121cf_row15_col1{\n",
       "            background-color:  #dcdddd;\n",
       "            color:  #000000;\n",
       "        }#T_121cf_row15_col7{\n",
       "            background-color:  #e6d7cf;\n",
       "            color:  #000000;\n",
       "        }</style><table id=\"T_121cf_\" ><thead>    <tr>        <th class=\"blank level0\" ></th>        <th class=\"col_heading level0 col0\" >index</th>        <th class=\"col_heading level0 col1\" >FG3A</th>        <th class=\"col_heading level0 col2\" >FG3_PCT</th>        <th class=\"col_heading level0 col3\" >FTA</th>        <th class=\"col_heading level0 col4\" >FT_PCT</th>        <th class=\"col_heading level0 col5\" >OREB</th>        <th class=\"col_heading level0 col6\" >DREB</th>        <th class=\"col_heading level0 col7\" >AST</th>        <th class=\"col_heading level0 col8\" >STL</th>        <th class=\"col_heading level0 col9\" >BLK</th>        <th class=\"col_heading level0 col10\" >TO</th>        <th class=\"col_heading level0 col11\" >PF</th>        <th class=\"col_heading level0 col12\" >PLUS_MINUS</th>        <th class=\"col_heading level0 col13\" >PTDIFFERENTIAL</th>        <th class=\"col_heading level0 col14\" >FG2A</th>        <th class=\"col_heading level0 col15\" >FG2_PCT</th>    </tr></thead><tbody>\n",
       "                <tr>\n",
       "                        <th id=\"T_121cf_level0_row0\" class=\"row_heading level0 row0\" >index</th>\n",
       "                        <td id=\"T_121cf_row0_col0\" class=\"data row0 col0\" >1.000000</td>\n",
       "                        <td id=\"T_121cf_row0_col1\" class=\"data row0 col1\" >0.060876</td>\n",
       "                        <td id=\"T_121cf_row0_col2\" class=\"data row0 col2\" >-0.011780</td>\n",
       "                        <td id=\"T_121cf_row0_col3\" class=\"data row0 col3\" >-0.076614</td>\n",
       "                        <td id=\"T_121cf_row0_col4\" class=\"data row0 col4\" >-0.024641</td>\n",
       "                        <td id=\"T_121cf_row0_col5\" class=\"data row0 col5\" >-0.031381</td>\n",
       "                        <td id=\"T_121cf_row0_col6\" class=\"data row0 col6\" >0.078987</td>\n",
       "                        <td id=\"T_121cf_row0_col7\" class=\"data row0 col7\" >0.018025</td>\n",
       "                        <td id=\"T_121cf_row0_col8\" class=\"data row0 col8\" >0.063328</td>\n",
       "                        <td id=\"T_121cf_row0_col9\" class=\"data row0 col9\" >0.016361</td>\n",
       "                        <td id=\"T_121cf_row0_col10\" class=\"data row0 col10\" >0.041445</td>\n",
       "                        <td id=\"T_121cf_row0_col11\" class=\"data row0 col11\" >-0.051283</td>\n",
       "                        <td id=\"T_121cf_row0_col12\" class=\"data row0 col12\" >0.006720</td>\n",
       "                        <td id=\"T_121cf_row0_col13\" class=\"data row0 col13\" >0.006720</td>\n",
       "                        <td id=\"T_121cf_row0_col14\" class=\"data row0 col14\" >-0.018091</td>\n",
       "                        <td id=\"T_121cf_row0_col15\" class=\"data row0 col15\" >-0.011322</td>\n",
       "            </tr>\n",
       "            <tr>\n",
       "                        <th id=\"T_121cf_level0_row1\" class=\"row_heading level0 row1\" >FG3A</th>\n",
       "                        <td id=\"T_121cf_row1_col0\" class=\"data row1 col0\" >0.060876</td>\n",
       "                        <td id=\"T_121cf_row1_col1\" class=\"data row1 col1\" >1.000000</td>\n",
       "                        <td id=\"T_121cf_row1_col2\" class=\"data row1 col2\" >0.070648</td>\n",
       "                        <td id=\"T_121cf_row1_col3\" class=\"data row1 col3\" >-0.135997</td>\n",
       "                        <td id=\"T_121cf_row1_col4\" class=\"data row1 col4\" >0.042681</td>\n",
       "                        <td id=\"T_121cf_row1_col5\" class=\"data row1 col5\" >-0.062890</td>\n",
       "                        <td id=\"T_121cf_row1_col6\" class=\"data row1 col6\" >0.267735</td>\n",
       "                        <td id=\"T_121cf_row1_col7\" class=\"data row1 col7\" >0.292751</td>\n",
       "                        <td id=\"T_121cf_row1_col8\" class=\"data row1 col8\" >0.053120</td>\n",
       "                        <td id=\"T_121cf_row1_col9\" class=\"data row1 col9\" >-0.010275</td>\n",
       "                        <td id=\"T_121cf_row1_col10\" class=\"data row1 col10\" >-0.022948</td>\n",
       "                        <td id=\"T_121cf_row1_col11\" class=\"data row1 col11\" >-0.032398</td>\n",
       "                        <td id=\"T_121cf_row1_col12\" class=\"data row1 col12\" >0.054685</td>\n",
       "                        <td id=\"T_121cf_row1_col13\" class=\"data row1 col13\" >0.054685</td>\n",
       "                        <td id=\"T_121cf_row1_col14\" class=\"data row1 col14\" >-0.589477</td>\n",
       "                        <td id=\"T_121cf_row1_col15\" class=\"data row1 col15\" >0.204041</td>\n",
       "            </tr>\n",
       "            <tr>\n",
       "                        <th id=\"T_121cf_level0_row2\" class=\"row_heading level0 row2\" >FG3_PCT</th>\n",
       "                        <td id=\"T_121cf_row2_col0\" class=\"data row2 col0\" >-0.011780</td>\n",
       "                        <td id=\"T_121cf_row2_col1\" class=\"data row2 col1\" >0.070648</td>\n",
       "                        <td id=\"T_121cf_row2_col2\" class=\"data row2 col2\" >1.000000</td>\n",
       "                        <td id=\"T_121cf_row2_col3\" class=\"data row2 col3\" >-0.055662</td>\n",
       "                        <td id=\"T_121cf_row2_col4\" class=\"data row2 col4\" >0.027219</td>\n",
       "                        <td id=\"T_121cf_row2_col5\" class=\"data row2 col5\" >-0.175914</td>\n",
       "                        <td id=\"T_121cf_row2_col6\" class=\"data row2 col6\" >0.018508</td>\n",
       "                        <td id=\"T_121cf_row2_col7\" class=\"data row2 col7\" >0.334458</td>\n",
       "                        <td id=\"T_121cf_row2_col8\" class=\"data row2 col8\" >-0.015321</td>\n",
       "                        <td id=\"T_121cf_row2_col9\" class=\"data row2 col9\" >0.009087</td>\n",
       "                        <td id=\"T_121cf_row2_col10\" class=\"data row2 col10\" >0.005095</td>\n",
       "                        <td id=\"T_121cf_row2_col11\" class=\"data row2 col11\" >0.000813</td>\n",
       "                        <td id=\"T_121cf_row2_col12\" class=\"data row2 col12\" >0.355876</td>\n",
       "                        <td id=\"T_121cf_row2_col13\" class=\"data row2 col13\" >0.355876</td>\n",
       "                        <td id=\"T_121cf_row2_col14\" class=\"data row2 col14\" >-0.140901</td>\n",
       "                        <td id=\"T_121cf_row2_col15\" class=\"data row2 col15\" >0.016629</td>\n",
       "            </tr>\n",
       "            <tr>\n",
       "                        <th id=\"T_121cf_level0_row3\" class=\"row_heading level0 row3\" >FTA</th>\n",
       "                        <td id=\"T_121cf_row3_col0\" class=\"data row3 col0\" >-0.076614</td>\n",
       "                        <td id=\"T_121cf_row3_col1\" class=\"data row3 col1\" >-0.135997</td>\n",
       "                        <td id=\"T_121cf_row3_col2\" class=\"data row3 col2\" >-0.055662</td>\n",
       "                        <td id=\"T_121cf_row3_col3\" class=\"data row3 col3\" >1.000000</td>\n",
       "                        <td id=\"T_121cf_row3_col4\" class=\"data row3 col4\" >-0.018672</td>\n",
       "                        <td id=\"T_121cf_row3_col5\" class=\"data row3 col5\" >0.094518</td>\n",
       "                        <td id=\"T_121cf_row3_col6\" class=\"data row3 col6\" >0.026396</td>\n",
       "                        <td id=\"T_121cf_row3_col7\" class=\"data row3 col7\" >-0.153868</td>\n",
       "                        <td id=\"T_121cf_row3_col8\" class=\"data row3 col8\" >0.059150</td>\n",
       "                        <td id=\"T_121cf_row3_col9\" class=\"data row3 col9\" >0.030713</td>\n",
       "                        <td id=\"T_121cf_row3_col10\" class=\"data row3 col10\" >0.057178</td>\n",
       "                        <td id=\"T_121cf_row3_col11\" class=\"data row3 col11\" >0.255715</td>\n",
       "                        <td id=\"T_121cf_row3_col12\" class=\"data row3 col12\" >0.081788</td>\n",
       "                        <td id=\"T_121cf_row3_col13\" class=\"data row3 col13\" >0.081788</td>\n",
       "                        <td id=\"T_121cf_row3_col14\" class=\"data row3 col14\" >-0.075346</td>\n",
       "                        <td id=\"T_121cf_row3_col15\" class=\"data row3 col15\" >-0.032990</td>\n",
       "            </tr>\n",
       "            <tr>\n",
       "                        <th id=\"T_121cf_level0_row4\" class=\"row_heading level0 row4\" >FT_PCT</th>\n",
       "                        <td id=\"T_121cf_row4_col0\" class=\"data row4 col0\" >-0.024641</td>\n",
       "                        <td id=\"T_121cf_row4_col1\" class=\"data row4 col1\" >0.042681</td>\n",
       "                        <td id=\"T_121cf_row4_col2\" class=\"data row4 col2\" >0.027219</td>\n",
       "                        <td id=\"T_121cf_row4_col3\" class=\"data row4 col3\" >-0.018672</td>\n",
       "                        <td id=\"T_121cf_row4_col4\" class=\"data row4 col4\" >1.000000</td>\n",
       "                        <td id=\"T_121cf_row4_col5\" class=\"data row4 col5\" >-0.091282</td>\n",
       "                        <td id=\"T_121cf_row4_col6\" class=\"data row4 col6\" >0.007581</td>\n",
       "                        <td id=\"T_121cf_row4_col7\" class=\"data row4 col7\" >0.021273</td>\n",
       "                        <td id=\"T_121cf_row4_col8\" class=\"data row4 col8\" >-0.014452</td>\n",
       "                        <td id=\"T_121cf_row4_col9\" class=\"data row4 col9\" >-0.007841</td>\n",
       "                        <td id=\"T_121cf_row4_col10\" class=\"data row4 col10\" >-0.026511</td>\n",
       "                        <td id=\"T_121cf_row4_col11\" class=\"data row4 col11\" >-0.005962</td>\n",
       "                        <td id=\"T_121cf_row4_col12\" class=\"data row4 col12\" >0.117838</td>\n",
       "                        <td id=\"T_121cf_row4_col13\" class=\"data row4 col13\" >0.117838</td>\n",
       "                        <td id=\"T_121cf_row4_col14\" class=\"data row4 col14\" >-0.042882</td>\n",
       "                        <td id=\"T_121cf_row4_col15\" class=\"data row4 col15\" >0.023278</td>\n",
       "            </tr>\n",
       "            <tr>\n",
       "                        <th id=\"T_121cf_level0_row5\" class=\"row_heading level0 row5\" >OREB</th>\n",
       "                        <td id=\"T_121cf_row5_col0\" class=\"data row5 col0\" >-0.031381</td>\n",
       "                        <td id=\"T_121cf_row5_col1\" class=\"data row5 col1\" >-0.062890</td>\n",
       "                        <td id=\"T_121cf_row5_col2\" class=\"data row5 col2\" >-0.175914</td>\n",
       "                        <td id=\"T_121cf_row5_col3\" class=\"data row5 col3\" >0.094518</td>\n",
       "                        <td id=\"T_121cf_row5_col4\" class=\"data row5 col4\" >-0.091282</td>\n",
       "                        <td id=\"T_121cf_row5_col5\" class=\"data row5 col5\" >1.000000</td>\n",
       "                        <td id=\"T_121cf_row5_col6\" class=\"data row5 col6\" >-0.054985</td>\n",
       "                        <td id=\"T_121cf_row5_col7\" class=\"data row5 col7\" >-0.113347</td>\n",
       "                        <td id=\"T_121cf_row5_col8\" class=\"data row5 col8\" >0.025249</td>\n",
       "                        <td id=\"T_121cf_row5_col9\" class=\"data row5 col9\" >0.014947</td>\n",
       "                        <td id=\"T_121cf_row5_col10\" class=\"data row5 col10\" >0.023427</td>\n",
       "                        <td id=\"T_121cf_row5_col11\" class=\"data row5 col11\" >0.047433</td>\n",
       "                        <td id=\"T_121cf_row5_col12\" class=\"data row5 col12\" >-0.020499</td>\n",
       "                        <td id=\"T_121cf_row5_col13\" class=\"data row5 col13\" >-0.020499</td>\n",
       "                        <td id=\"T_121cf_row5_col14\" class=\"data row5 col14\" >0.450366</td>\n",
       "                        <td id=\"T_121cf_row5_col15\" class=\"data row5 col15\" >-0.332082</td>\n",
       "            </tr>\n",
       "            <tr>\n",
       "                        <th id=\"T_121cf_level0_row6\" class=\"row_heading level0 row6\" >DREB</th>\n",
       "                        <td id=\"T_121cf_row6_col0\" class=\"data row6 col0\" >0.078987</td>\n",
       "                        <td id=\"T_121cf_row6_col1\" class=\"data row6 col1\" >0.267735</td>\n",
       "                        <td id=\"T_121cf_row6_col2\" class=\"data row6 col2\" >0.018508</td>\n",
       "                        <td id=\"T_121cf_row6_col3\" class=\"data row6 col3\" >0.026396</td>\n",
       "                        <td id=\"T_121cf_row6_col4\" class=\"data row6 col4\" >0.007581</td>\n",
       "                        <td id=\"T_121cf_row6_col5\" class=\"data row6 col5\" >-0.054985</td>\n",
       "                        <td id=\"T_121cf_row6_col6\" class=\"data row6 col6\" >1.000000</td>\n",
       "                        <td id=\"T_121cf_row6_col7\" class=\"data row6 col7\" >0.179583</td>\n",
       "                        <td id=\"T_121cf_row6_col8\" class=\"data row6 col8\" >-0.116793</td>\n",
       "                        <td id=\"T_121cf_row6_col9\" class=\"data row6 col9\" >0.195266</td>\n",
       "                        <td id=\"T_121cf_row6_col10\" class=\"data row6 col10\" >0.136611</td>\n",
       "                        <td id=\"T_121cf_row6_col11\" class=\"data row6 col11\" >-0.048263</td>\n",
       "                        <td id=\"T_121cf_row6_col12\" class=\"data row6 col12\" >0.395364</td>\n",
       "                        <td id=\"T_121cf_row6_col13\" class=\"data row6 col13\" >0.395364</td>\n",
       "                        <td id=\"T_121cf_row6_col14\" class=\"data row6 col14\" >-0.037821</td>\n",
       "                        <td id=\"T_121cf_row6_col15\" class=\"data row6 col15\" >0.096643</td>\n",
       "            </tr>\n",
       "            <tr>\n",
       "                        <th id=\"T_121cf_level0_row7\" class=\"row_heading level0 row7\" >AST</th>\n",
       "                        <td id=\"T_121cf_row7_col0\" class=\"data row7 col0\" >0.018025</td>\n",
       "                        <td id=\"T_121cf_row7_col1\" class=\"data row7 col1\" >0.292751</td>\n",
       "                        <td id=\"T_121cf_row7_col2\" class=\"data row7 col2\" >0.334458</td>\n",
       "                        <td id=\"T_121cf_row7_col3\" class=\"data row7 col3\" >-0.153868</td>\n",
       "                        <td id=\"T_121cf_row7_col4\" class=\"data row7 col4\" >0.021273</td>\n",
       "                        <td id=\"T_121cf_row7_col5\" class=\"data row7 col5\" >-0.113347</td>\n",
       "                        <td id=\"T_121cf_row7_col6\" class=\"data row7 col6\" >0.179583</td>\n",
       "                        <td id=\"T_121cf_row7_col7\" class=\"data row7 col7\" >1.000000</td>\n",
       "                        <td id=\"T_121cf_row7_col8\" class=\"data row7 col8\" >0.102557</td>\n",
       "                        <td id=\"T_121cf_row7_col9\" class=\"data row7 col9\" >0.077488</td>\n",
       "                        <td id=\"T_121cf_row7_col10\" class=\"data row7 col10\" >-0.042520</td>\n",
       "                        <td id=\"T_121cf_row7_col11\" class=\"data row7 col11\" >-0.027959</td>\n",
       "                        <td id=\"T_121cf_row7_col12\" class=\"data row7 col12\" >0.406589</td>\n",
       "                        <td id=\"T_121cf_row7_col13\" class=\"data row7 col13\" >0.406589</td>\n",
       "                        <td id=\"T_121cf_row7_col14\" class=\"data row7 col14\" >-0.029582</td>\n",
       "                        <td id=\"T_121cf_row7_col15\" class=\"data row7 col15\" >0.464154</td>\n",
       "            </tr>\n",
       "            <tr>\n",
       "                        <th id=\"T_121cf_level0_row8\" class=\"row_heading level0 row8\" >STL</th>\n",
       "                        <td id=\"T_121cf_row8_col0\" class=\"data row8 col0\" >0.063328</td>\n",
       "                        <td id=\"T_121cf_row8_col1\" class=\"data row8 col1\" >0.053120</td>\n",
       "                        <td id=\"T_121cf_row8_col2\" class=\"data row8 col2\" >-0.015321</td>\n",
       "                        <td id=\"T_121cf_row8_col3\" class=\"data row8 col3\" >0.059150</td>\n",
       "                        <td id=\"T_121cf_row8_col4\" class=\"data row8 col4\" >-0.014452</td>\n",
       "                        <td id=\"T_121cf_row8_col5\" class=\"data row8 col5\" >0.025249</td>\n",
       "                        <td id=\"T_121cf_row8_col6\" class=\"data row8 col6\" >-0.116793</td>\n",
       "                        <td id=\"T_121cf_row8_col7\" class=\"data row8 col7\" >0.102557</td>\n",
       "                        <td id=\"T_121cf_row8_col8\" class=\"data row8 col8\" >1.000000</td>\n",
       "                        <td id=\"T_121cf_row8_col9\" class=\"data row8 col9\" >0.012942</td>\n",
       "                        <td id=\"T_121cf_row8_col10\" class=\"data row8 col10\" >0.118733</td>\n",
       "                        <td id=\"T_121cf_row8_col11\" class=\"data row8 col11\" >0.027116</td>\n",
       "                        <td id=\"T_121cf_row8_col12\" class=\"data row8 col12\" >0.167197</td>\n",
       "                        <td id=\"T_121cf_row8_col13\" class=\"data row8 col13\" >0.167197</td>\n",
       "                        <td id=\"T_121cf_row8_col14\" class=\"data row8 col14\" >0.075284</td>\n",
       "                        <td id=\"T_121cf_row8_col15\" class=\"data row8 col15\" >0.027063</td>\n",
       "            </tr>\n",
       "            <tr>\n",
       "                        <th id=\"T_121cf_level0_row9\" class=\"row_heading level0 row9\" >BLK</th>\n",
       "                        <td id=\"T_121cf_row9_col0\" class=\"data row9 col0\" >0.016361</td>\n",
       "                        <td id=\"T_121cf_row9_col1\" class=\"data row9 col1\" >-0.010275</td>\n",
       "                        <td id=\"T_121cf_row9_col2\" class=\"data row9 col2\" >0.009087</td>\n",
       "                        <td id=\"T_121cf_row9_col3\" class=\"data row9 col3\" >0.030713</td>\n",
       "                        <td id=\"T_121cf_row9_col4\" class=\"data row9 col4\" >-0.007841</td>\n",
       "                        <td id=\"T_121cf_row9_col5\" class=\"data row9 col5\" >0.014947</td>\n",
       "                        <td id=\"T_121cf_row9_col6\" class=\"data row9 col6\" >0.195266</td>\n",
       "                        <td id=\"T_121cf_row9_col7\" class=\"data row9 col7\" >0.077488</td>\n",
       "                        <td id=\"T_121cf_row9_col8\" class=\"data row9 col8\" >0.012942</td>\n",
       "                        <td id=\"T_121cf_row9_col9\" class=\"data row9 col9\" >1.000000</td>\n",
       "                        <td id=\"T_121cf_row9_col10\" class=\"data row9 col10\" >0.057162</td>\n",
       "                        <td id=\"T_121cf_row9_col11\" class=\"data row9 col11\" >-0.000556</td>\n",
       "                        <td id=\"T_121cf_row9_col12\" class=\"data row9 col12\" >0.182040</td>\n",
       "                        <td id=\"T_121cf_row9_col13\" class=\"data row9 col13\" >0.182040</td>\n",
       "                        <td id=\"T_121cf_row9_col14\" class=\"data row9 col14\" >0.035345</td>\n",
       "                        <td id=\"T_121cf_row9_col15\" class=\"data row9 col15\" >0.038880</td>\n",
       "            </tr>\n",
       "            <tr>\n",
       "                        <th id=\"T_121cf_level0_row10\" class=\"row_heading level0 row10\" >TO</th>\n",
       "                        <td id=\"T_121cf_row10_col0\" class=\"data row10 col0\" >0.041445</td>\n",
       "                        <td id=\"T_121cf_row10_col1\" class=\"data row10 col1\" >-0.022948</td>\n",
       "                        <td id=\"T_121cf_row10_col2\" class=\"data row10 col2\" >0.005095</td>\n",
       "                        <td id=\"T_121cf_row10_col3\" class=\"data row10 col3\" >0.057178</td>\n",
       "                        <td id=\"T_121cf_row10_col4\" class=\"data row10 col4\" >-0.026511</td>\n",
       "                        <td id=\"T_121cf_row10_col5\" class=\"data row10 col5\" >0.023427</td>\n",
       "                        <td id=\"T_121cf_row10_col6\" class=\"data row10 col6\" >0.136611</td>\n",
       "                        <td id=\"T_121cf_row10_col7\" class=\"data row10 col7\" >-0.042520</td>\n",
       "                        <td id=\"T_121cf_row10_col8\" class=\"data row10 col8\" >0.118733</td>\n",
       "                        <td id=\"T_121cf_row10_col9\" class=\"data row10 col9\" >0.057162</td>\n",
       "                        <td id=\"T_121cf_row10_col10\" class=\"data row10 col10\" >1.000000</td>\n",
       "                        <td id=\"T_121cf_row10_col11\" class=\"data row10 col11\" >0.194803</td>\n",
       "                        <td id=\"T_121cf_row10_col12\" class=\"data row10 col12\" >-0.140201</td>\n",
       "                        <td id=\"T_121cf_row10_col13\" class=\"data row10 col13\" >-0.140201</td>\n",
       "                        <td id=\"T_121cf_row10_col14\" class=\"data row10 col14\" >-0.184701</td>\n",
       "                        <td id=\"T_121cf_row10_col15\" class=\"data row10 col15\" >0.041770</td>\n",
       "            </tr>\n",
       "            <tr>\n",
       "                        <th id=\"T_121cf_level0_row11\" class=\"row_heading level0 row11\" >PF</th>\n",
       "                        <td id=\"T_121cf_row11_col0\" class=\"data row11 col0\" >-0.051283</td>\n",
       "                        <td id=\"T_121cf_row11_col1\" class=\"data row11 col1\" >-0.032398</td>\n",
       "                        <td id=\"T_121cf_row11_col2\" class=\"data row11 col2\" >0.000813</td>\n",
       "                        <td id=\"T_121cf_row11_col3\" class=\"data row11 col3\" >0.255715</td>\n",
       "                        <td id=\"T_121cf_row11_col4\" class=\"data row11 col4\" >-0.005962</td>\n",
       "                        <td id=\"T_121cf_row11_col5\" class=\"data row11 col5\" >0.047433</td>\n",
       "                        <td id=\"T_121cf_row11_col6\" class=\"data row11 col6\" >-0.048263</td>\n",
       "                        <td id=\"T_121cf_row11_col7\" class=\"data row11 col7\" >-0.027959</td>\n",
       "                        <td id=\"T_121cf_row11_col8\" class=\"data row11 col8\" >0.027116</td>\n",
       "                        <td id=\"T_121cf_row11_col9\" class=\"data row11 col9\" >-0.000556</td>\n",
       "                        <td id=\"T_121cf_row11_col10\" class=\"data row11 col10\" >0.194803</td>\n",
       "                        <td id=\"T_121cf_row11_col11\" class=\"data row11 col11\" >1.000000</td>\n",
       "                        <td id=\"T_121cf_row11_col12\" class=\"data row11 col12\" >-0.069255</td>\n",
       "                        <td id=\"T_121cf_row11_col13\" class=\"data row11 col13\" >-0.069255</td>\n",
       "                        <td id=\"T_121cf_row11_col14\" class=\"data row11 col14\" >0.052571</td>\n",
       "                        <td id=\"T_121cf_row11_col15\" class=\"data row11 col15\" >-0.019418</td>\n",
       "            </tr>\n",
       "            <tr>\n",
       "                        <th id=\"T_121cf_level0_row12\" class=\"row_heading level0 row12\" >PLUS_MINUS</th>\n",
       "                        <td id=\"T_121cf_row12_col0\" class=\"data row12 col0\" >0.006720</td>\n",
       "                        <td id=\"T_121cf_row12_col1\" class=\"data row12 col1\" >0.054685</td>\n",
       "                        <td id=\"T_121cf_row12_col2\" class=\"data row12 col2\" >0.355876</td>\n",
       "                        <td id=\"T_121cf_row12_col3\" class=\"data row12 col3\" >0.081788</td>\n",
       "                        <td id=\"T_121cf_row12_col4\" class=\"data row12 col4\" >0.117838</td>\n",
       "                        <td id=\"T_121cf_row12_col5\" class=\"data row12 col5\" >-0.020499</td>\n",
       "                        <td id=\"T_121cf_row12_col6\" class=\"data row12 col6\" >0.395364</td>\n",
       "                        <td id=\"T_121cf_row12_col7\" class=\"data row12 col7\" >0.406589</td>\n",
       "                        <td id=\"T_121cf_row12_col8\" class=\"data row12 col8\" >0.167197</td>\n",
       "                        <td id=\"T_121cf_row12_col9\" class=\"data row12 col9\" >0.182040</td>\n",
       "                        <td id=\"T_121cf_row12_col10\" class=\"data row12 col10\" >-0.140201</td>\n",
       "                        <td id=\"T_121cf_row12_col11\" class=\"data row12 col11\" >-0.069255</td>\n",
       "                        <td id=\"T_121cf_row12_col12\" class=\"data row12 col12\" >1.000000</td>\n",
       "                        <td id=\"T_121cf_row12_col13\" class=\"data row12 col13\" >1.000000</td>\n",
       "                        <td id=\"T_121cf_row12_col14\" class=\"data row12 col14\" >-0.054037</td>\n",
       "                        <td id=\"T_121cf_row12_col15\" class=\"data row12 col15\" >0.403286</td>\n",
       "            </tr>\n",
       "            <tr>\n",
       "                        <th id=\"T_121cf_level0_row13\" class=\"row_heading level0 row13\" >PTDIFFERENTIAL</th>\n",
       "                        <td id=\"T_121cf_row13_col0\" class=\"data row13 col0\" >0.006720</td>\n",
       "                        <td id=\"T_121cf_row13_col1\" class=\"data row13 col1\" >0.054685</td>\n",
       "                        <td id=\"T_121cf_row13_col2\" class=\"data row13 col2\" >0.355876</td>\n",
       "                        <td id=\"T_121cf_row13_col3\" class=\"data row13 col3\" >0.081788</td>\n",
       "                        <td id=\"T_121cf_row13_col4\" class=\"data row13 col4\" >0.117838</td>\n",
       "                        <td id=\"T_121cf_row13_col5\" class=\"data row13 col5\" >-0.020499</td>\n",
       "                        <td id=\"T_121cf_row13_col6\" class=\"data row13 col6\" >0.395364</td>\n",
       "                        <td id=\"T_121cf_row13_col7\" class=\"data row13 col7\" >0.406589</td>\n",
       "                        <td id=\"T_121cf_row13_col8\" class=\"data row13 col8\" >0.167197</td>\n",
       "                        <td id=\"T_121cf_row13_col9\" class=\"data row13 col9\" >0.182040</td>\n",
       "                        <td id=\"T_121cf_row13_col10\" class=\"data row13 col10\" >-0.140201</td>\n",
       "                        <td id=\"T_121cf_row13_col11\" class=\"data row13 col11\" >-0.069255</td>\n",
       "                        <td id=\"T_121cf_row13_col12\" class=\"data row13 col12\" >1.000000</td>\n",
       "                        <td id=\"T_121cf_row13_col13\" class=\"data row13 col13\" >1.000000</td>\n",
       "                        <td id=\"T_121cf_row13_col14\" class=\"data row13 col14\" >-0.054037</td>\n",
       "                        <td id=\"T_121cf_row13_col15\" class=\"data row13 col15\" >0.403286</td>\n",
       "            </tr>\n",
       "            <tr>\n",
       "                        <th id=\"T_121cf_level0_row14\" class=\"row_heading level0 row14\" >FG2A</th>\n",
       "                        <td id=\"T_121cf_row14_col0\" class=\"data row14 col0\" >-0.018091</td>\n",
       "                        <td id=\"T_121cf_row14_col1\" class=\"data row14 col1\" >-0.589477</td>\n",
       "                        <td id=\"T_121cf_row14_col2\" class=\"data row14 col2\" >-0.140901</td>\n",
       "                        <td id=\"T_121cf_row14_col3\" class=\"data row14 col3\" >-0.075346</td>\n",
       "                        <td id=\"T_121cf_row14_col4\" class=\"data row14 col4\" >-0.042882</td>\n",
       "                        <td id=\"T_121cf_row14_col5\" class=\"data row14 col5\" >0.450366</td>\n",
       "                        <td id=\"T_121cf_row14_col6\" class=\"data row14 col6\" >-0.037821</td>\n",
       "                        <td id=\"T_121cf_row14_col7\" class=\"data row14 col7\" >-0.029582</td>\n",
       "                        <td id=\"T_121cf_row14_col8\" class=\"data row14 col8\" >0.075284</td>\n",
       "                        <td id=\"T_121cf_row14_col9\" class=\"data row14 col9\" >0.035345</td>\n",
       "                        <td id=\"T_121cf_row14_col10\" class=\"data row14 col10\" >-0.184701</td>\n",
       "                        <td id=\"T_121cf_row14_col11\" class=\"data row14 col11\" >0.052571</td>\n",
       "                        <td id=\"T_121cf_row14_col12\" class=\"data row14 col12\" >-0.054037</td>\n",
       "                        <td id=\"T_121cf_row14_col13\" class=\"data row14 col13\" >-0.054037</td>\n",
       "                        <td id=\"T_121cf_row14_col14\" class=\"data row14 col14\" >1.000000</td>\n",
       "                        <td id=\"T_121cf_row14_col15\" class=\"data row14 col15\" >-0.263973</td>\n",
       "            </tr>\n",
       "            <tr>\n",
       "                        <th id=\"T_121cf_level0_row15\" class=\"row_heading level0 row15\" >FG2_PCT</th>\n",
       "                        <td id=\"T_121cf_row15_col0\" class=\"data row15 col0\" >-0.011322</td>\n",
       "                        <td id=\"T_121cf_row15_col1\" class=\"data row15 col1\" >0.204041</td>\n",
       "                        <td id=\"T_121cf_row15_col2\" class=\"data row15 col2\" >0.016629</td>\n",
       "                        <td id=\"T_121cf_row15_col3\" class=\"data row15 col3\" >-0.032990</td>\n",
       "                        <td id=\"T_121cf_row15_col4\" class=\"data row15 col4\" >0.023278</td>\n",
       "                        <td id=\"T_121cf_row15_col5\" class=\"data row15 col5\" >-0.332082</td>\n",
       "                        <td id=\"T_121cf_row15_col6\" class=\"data row15 col6\" >0.096643</td>\n",
       "                        <td id=\"T_121cf_row15_col7\" class=\"data row15 col7\" >0.464154</td>\n",
       "                        <td id=\"T_121cf_row15_col8\" class=\"data row15 col8\" >0.027063</td>\n",
       "                        <td id=\"T_121cf_row15_col9\" class=\"data row15 col9\" >0.038880</td>\n",
       "                        <td id=\"T_121cf_row15_col10\" class=\"data row15 col10\" >0.041770</td>\n",
       "                        <td id=\"T_121cf_row15_col11\" class=\"data row15 col11\" >-0.019418</td>\n",
       "                        <td id=\"T_121cf_row15_col12\" class=\"data row15 col12\" >0.403286</td>\n",
       "                        <td id=\"T_121cf_row15_col13\" class=\"data row15 col13\" >0.403286</td>\n",
       "                        <td id=\"T_121cf_row15_col14\" class=\"data row15 col14\" >-0.263973</td>\n",
       "                        <td id=\"T_121cf_row15_col15\" class=\"data row15 col15\" >1.000000</td>\n",
       "            </tr>\n",
       "    </tbody></table>"
      ],
      "text/plain": [
       "<pandas.io.formats.style.Styler at 0x23b27fd9400>"
      ]
     },
     "execution_count": 14,
     "metadata": {},
     "output_type": "execute_result"
    }
   ],
   "source": [
    "\n",
    "corr = teamdf.corr()\n",
    "corr.style.background_gradient(cmap='coolwarm')\n"
   ]
  },
  {
   "cell_type": "markdown",
   "metadata": {
    "id": "_7NwnRphH32H"
   },
   "source": [
    "Lets create a result column for the winners and losers based on point differential"
   ]
  },
  {
   "cell_type": "code",
   "execution_count": 15,
   "metadata": {
    "id": "QcPL_7nEvRrt"
   },
   "outputs": [],
   "source": [
    "teamdf.loc[(teamdf.PTDIFFERENTIAL > 0), 'RESULT'] = 'W'\n",
    "\n",
    "teamdf.loc[(teamdf.PTDIFFERENTIAL < 0), 'RESULT'] = 'L'\n",
    "teamdf = teamdf.reset_index()"
   ]
  },
  {
   "cell_type": "markdown",
   "metadata": {},
   "source": [
    "Lets explore stats in boxplot"
   ]
  },
  {
   "cell_type": "code",
   "execution_count": 16,
   "metadata": {
    "colab": {
     "base_uri": "https://localhost:8080/",
     "height": 321
    },
    "id": "LWNKmQbG44_U",
    "outputId": "3789a734-1c9e-4b14-8d86-ea2dc4f8a574"
   },
   "outputs": [
    {
     "data": {
      "image/png": "[encoded data removed]",
      "text/plain": [
       "<Figure size 576x360 with 1 Axes>"
      ]
     },
     "metadata": {
      "needs_background": "light"
     },
     "output_type": "display_data"
    }
   ],
   "source": [
    "plt.figure(figsize=(8,5))\n",
    "\n",
    "boxplot = teamdf.boxplot(column=[ 'FG2_PCT','FG3_PCT', 'FT_PCT'])"
   ]
  },
  {
   "cell_type": "code",
   "execution_count": 17,
   "metadata": {
    "colab": {
     "base_uri": "https://localhost:8080/",
     "height": 931
    },
    "id": "hKycZdI844aV",
    "outputId": "8b39a936-5b57-4dea-95df-7302c5cd1065"
   },
   "outputs": [
    {
     "data": {
      "image/png": "[encoded data removed]",
      "text/plain": [
       "<Figure size 1440x1440 with 1 Axes>"
      ]
     },
     "metadata": {
      "needs_background": "light"
     },
     "output_type": "display_data"
    }
   ],
   "source": [
    "plt.figure(figsize=(20,20))\n",
    "wanted_columns = ['FG3A', 'FTA','FG2A',\n",
    "        'OREB', 'DREB', 'AST', 'STL', 'BLK', 'TO', 'PF']\n",
    "boxplot = teamdf[wanted_columns].boxplot()"
   ]
  },
  {
   "cell_type": "markdown",
   "metadata": {},
   "source": [
    "Histogram distribution of team stats "
   ]
  },
  {
   "cell_type": "code",
   "execution_count": 18,
   "metadata": {
    "colab": {
     "base_uri": "https://localhost:8080/",
     "height": 1000
    },
    "id": "XxjJ7QAr6b_Q",
    "outputId": "a832c3d8-4573-4b8c-865c-852439378fc0"
   },
   "outputs": [
    {
     "data": {
      "text/plain": [
       "array([[<AxesSubplot:title={'center':'FG3A'}>,\n",
       "        <AxesSubplot:title={'center':'FTA'}>,\n",
       "        <AxesSubplot:title={'center':'FG2A'}>],\n",
       "       [<AxesSubplot:title={'center':'OREB'}>,\n",
       "        <AxesSubplot:title={'center':'DREB'}>,\n",
       "        <AxesSubplot:title={'center':'AST'}>],\n",
       "       [<AxesSubplot:title={'center':'STL'}>,\n",
       "        <AxesSubplot:title={'center':'BLK'}>,\n",
       "        <AxesSubplot:title={'center':'TO'}>],\n",
       "       [<AxesSubplot:title={'center':'PF'}>, <AxesSubplot:>,\n",
       "        <AxesSubplot:>]], dtype=object)"
      ]
     },
     "execution_count": 18,
     "metadata": {},
     "output_type": "execute_result"
    },
    {
     "data": {
      "text/plain": [
       "<Figure size 1440x1440 with 0 Axes>"
      ]
     },
     "metadata": {},
     "output_type": "display_data"
    },
    {
     "data": {
      "image/png": "[encoded data removed]",
      "text/plain": [
       "<Figure size 1440x1440 with 12 Axes>"
      ]
     },
     "metadata": {
      "needs_background": "light"
     },
     "output_type": "display_data"
    }
   ],
   "source": [
    "plt.figure(figsize=(20,20))\n",
    "\n",
    "wanted_columns = ['FG3A', 'FTA','FG2A',\n",
    "        'OREB', 'DREB', 'AST', 'STL', 'BLK', 'TO', 'PF']\n",
    "\n",
    "teamdf[wanted_columns].hist(bins=10,figsize=(20,20))\n"
   ]
  },
  {
   "cell_type": "markdown",
   "metadata": {
    "id": "JgJQO4YeXyJs"
   },
   "source": [
    "Lets make logistic regression to classify if a team wins or losses based on game stats"
   ]
  },
  {
   "cell_type": "code",
   "execution_count": 47,
   "metadata": {
    "id": "HfLzXqvbtdBy"
   },
   "outputs": [],
   "source": [
    "teamdf['RESULT'].replace({'W':1,'L':'0'},inplace = True)"
   ]
  },
  {
   "cell_type": "markdown",
   "metadata": {
    "id": "EJfXKypfyLtJ"
   },
   "source": [
    "Lets include team city to see if team city is significant/\n",
    "More specifically to see if certain statlines signify a win for certain teams"
   ]
  },
  {
   "cell_type": "code",
   "execution_count": 20,
   "metadata": {
    "id": "P24sHfBYwpmQ"
   },
   "outputs": [],
   "source": [
    "teamdf['TEAM_CITY'] = df['TEAM_CITY']"
   ]
  },
  {
   "cell_type": "code",
   "execution_count": 21,
   "metadata": {
    "id": "VUV4oQ5CuNqT"
   },
   "outputs": [],
   "source": [
    "#We will also drop ptdifferential and plus minus as this spoils the outcome of the game\n",
    "new_teamdf = teamdf[['FG3A', 'FG3_PCT', 'FTA',\n",
    "       'FT_PCT', 'OREB', 'DREB', 'AST', 'STL', 'BLK', 'TO', 'PF', 'FG2A', 'FG2_PCT', 'RESULT', 'TEAM_CITY']]\n",
    "\n"
   ]
  },
  {
   "cell_type": "markdown",
   "metadata": {
    "id": "ulHuCp-duAjO"
   },
   "source": [
    "Lets make team city a dummy var so that we can use it in model"
   ]
  },
  {
   "cell_type": "code",
   "execution_count": 22,
   "metadata": {
    "id": "ChxMcGosK7k_"
   },
   "outputs": [],
   "source": [
    "wanted_columns = ['FG3A', 'FG3_PCT', 'FTA',\n",
    "       'FT_PCT', 'OREB', 'DREB', 'AST', 'STL', 'BLK', 'TO', 'PF',  'FG2A', 'FG2_PCT','TEAM_CITY']\n",
    "X = pd.get_dummies(new_teamdf[wanted_columns])"
   ]
  },
  {
   "cell_type": "code",
   "execution_count": 23,
   "metadata": {
    "id": "8mw6_OxQIDOy"
   },
   "outputs": [
    {
     "data": {
      "text/html": [
       "<div>\n",
       "<style scoped>\n",
       "    .dataframe tbody tr th:only-of-type {\n",
       "        vertical-align: middle;\n",
       "    }\n",
       "\n",
       "    .dataframe tbody tr th {\n",
       "        vertical-align: top;\n",
       "    }\n",
       "\n",
       "    .dataframe thead th {\n",
       "        text-align: right;\n",
       "    }\n",
       "</style>\n",
       "<table border=\"1\" class=\"dataframe\">\n",
       "  <thead>\n",
       "    <tr style=\"text-align: right;\">\n",
       "      <th></th>\n",
       "      <th>FG3A</th>\n",
       "      <th>FG3_PCT</th>\n",
       "      <th>FTA</th>\n",
       "      <th>FT_PCT</th>\n",
       "      <th>OREB</th>\n",
       "      <th>DREB</th>\n",
       "      <th>AST</th>\n",
       "      <th>STL</th>\n",
       "      <th>BLK</th>\n",
       "      <th>TO</th>\n",
       "      <th>...</th>\n",
       "      <th>TEAM_CITY_Oklahoma City</th>\n",
       "      <th>TEAM_CITY_Orlando</th>\n",
       "      <th>TEAM_CITY_Philadelphia</th>\n",
       "      <th>TEAM_CITY_Phoenix</th>\n",
       "      <th>TEAM_CITY_Portland</th>\n",
       "      <th>TEAM_CITY_Sacramento</th>\n",
       "      <th>TEAM_CITY_San Antonio</th>\n",
       "      <th>TEAM_CITY_Toronto</th>\n",
       "      <th>TEAM_CITY_Utah</th>\n",
       "      <th>TEAM_CITY_Washington</th>\n",
       "    </tr>\n",
       "  </thead>\n",
       "  <tbody>\n",
       "    <tr>\n",
       "      <th>0</th>\n",
       "      <td>32.0</td>\n",
       "      <td>0.437500</td>\n",
       "      <td>17.0</td>\n",
       "      <td>0.705882</td>\n",
       "      <td>10.0</td>\n",
       "      <td>32.0</td>\n",
       "      <td>19.0</td>\n",
       "      <td>6.0</td>\n",
       "      <td>6.0</td>\n",
       "      <td>19.0</td>\n",
       "      <td>...</td>\n",
       "      <td>0</td>\n",
       "      <td>0</td>\n",
       "      <td>0</td>\n",
       "      <td>0</td>\n",
       "      <td>0</td>\n",
       "      <td>0</td>\n",
       "      <td>0</td>\n",
       "      <td>0</td>\n",
       "      <td>0</td>\n",
       "      <td>1</td>\n",
       "    </tr>\n",
       "    <tr>\n",
       "      <th>1</th>\n",
       "      <td>15.0</td>\n",
       "      <td>0.333333</td>\n",
       "      <td>28.0</td>\n",
       "      <td>0.678571</td>\n",
       "      <td>10.0</td>\n",
       "      <td>32.0</td>\n",
       "      <td>18.0</td>\n",
       "      <td>11.0</td>\n",
       "      <td>3.0</td>\n",
       "      <td>15.0</td>\n",
       "      <td>...</td>\n",
       "      <td>0</td>\n",
       "      <td>0</td>\n",
       "      <td>0</td>\n",
       "      <td>0</td>\n",
       "      <td>0</td>\n",
       "      <td>0</td>\n",
       "      <td>0</td>\n",
       "      <td>0</td>\n",
       "      <td>0</td>\n",
       "      <td>1</td>\n",
       "    </tr>\n",
       "    <tr>\n",
       "      <th>2</th>\n",
       "      <td>13.0</td>\n",
       "      <td>0.384615</td>\n",
       "      <td>40.0</td>\n",
       "      <td>0.725000</td>\n",
       "      <td>13.0</td>\n",
       "      <td>32.0</td>\n",
       "      <td>18.0</td>\n",
       "      <td>6.0</td>\n",
       "      <td>4.0</td>\n",
       "      <td>27.0</td>\n",
       "      <td>...</td>\n",
       "      <td>0</td>\n",
       "      <td>0</td>\n",
       "      <td>0</td>\n",
       "      <td>0</td>\n",
       "      <td>0</td>\n",
       "      <td>0</td>\n",
       "      <td>0</td>\n",
       "      <td>0</td>\n",
       "      <td>0</td>\n",
       "      <td>1</td>\n",
       "    </tr>\n",
       "    <tr>\n",
       "      <th>3</th>\n",
       "      <td>18.0</td>\n",
       "      <td>0.333333</td>\n",
       "      <td>35.0</td>\n",
       "      <td>0.771429</td>\n",
       "      <td>7.0</td>\n",
       "      <td>23.0</td>\n",
       "      <td>21.0</td>\n",
       "      <td>10.0</td>\n",
       "      <td>3.0</td>\n",
       "      <td>14.0</td>\n",
       "      <td>...</td>\n",
       "      <td>0</td>\n",
       "      <td>0</td>\n",
       "      <td>0</td>\n",
       "      <td>0</td>\n",
       "      <td>0</td>\n",
       "      <td>0</td>\n",
       "      <td>0</td>\n",
       "      <td>0</td>\n",
       "      <td>0</td>\n",
       "      <td>1</td>\n",
       "    </tr>\n",
       "    <tr>\n",
       "      <th>4</th>\n",
       "      <td>21.0</td>\n",
       "      <td>0.380952</td>\n",
       "      <td>32.0</td>\n",
       "      <td>0.718750</td>\n",
       "      <td>12.0</td>\n",
       "      <td>28.0</td>\n",
       "      <td>18.0</td>\n",
       "      <td>8.0</td>\n",
       "      <td>7.0</td>\n",
       "      <td>19.0</td>\n",
       "      <td>...</td>\n",
       "      <td>0</td>\n",
       "      <td>0</td>\n",
       "      <td>0</td>\n",
       "      <td>0</td>\n",
       "      <td>0</td>\n",
       "      <td>0</td>\n",
       "      <td>0</td>\n",
       "      <td>0</td>\n",
       "      <td>0</td>\n",
       "      <td>1</td>\n",
       "    </tr>\n",
       "  </tbody>\n",
       "</table>\n",
       "<p>5 rows × 43 columns</p>\n",
       "</div>"
      ],
      "text/plain": [
       "   FG3A   FG3_PCT   FTA    FT_PCT  OREB  DREB   AST   STL  BLK    TO  ...  \\\n",
       "0  32.0  0.437500  17.0  0.705882  10.0  32.0  19.0   6.0  6.0  19.0  ...   \n",
       "1  15.0  0.333333  28.0  0.678571  10.0  32.0  18.0  11.0  3.0  15.0  ...   \n",
       "2  13.0  0.384615  40.0  0.725000  13.0  32.0  18.0   6.0  4.0  27.0  ...   \n",
       "3  18.0  0.333333  35.0  0.771429   7.0  23.0  21.0  10.0  3.0  14.0  ...   \n",
       "4  21.0  0.380952  32.0  0.718750  12.0  28.0  18.0   8.0  7.0  19.0  ...   \n",
       "\n",
       "   TEAM_CITY_Oklahoma City  TEAM_CITY_Orlando  TEAM_CITY_Philadelphia  \\\n",
       "0                        0                  0                       0   \n",
       "1                        0                  0                       0   \n",
       "2                        0                  0                       0   \n",
       "3                        0                  0                       0   \n",
       "4                        0                  0                       0   \n",
       "\n",
       "   TEAM_CITY_Phoenix  TEAM_CITY_Portland  TEAM_CITY_Sacramento  \\\n",
       "0                  0                   0                     0   \n",
       "1                  0                   0                     0   \n",
       "2                  0                   0                     0   \n",
       "3                  0                   0                     0   \n",
       "4                  0                   0                     0   \n",
       "\n",
       "   TEAM_CITY_San Antonio  TEAM_CITY_Toronto  TEAM_CITY_Utah  \\\n",
       "0                      0                  0               0   \n",
       "1                      0                  0               0   \n",
       "2                      0                  0               0   \n",
       "3                      0                  0               0   \n",
       "4                      0                  0               0   \n",
       "\n",
       "   TEAM_CITY_Washington  \n",
       "0                     1  \n",
       "1                     1  \n",
       "2                     1  \n",
       "3                     1  \n",
       "4                     1  \n",
       "\n",
       "[5 rows x 43 columns]"
      ]
     },
     "execution_count": 23,
     "metadata": {},
     "output_type": "execute_result"
    }
   ],
   "source": [
    "X.head()"
   ]
  },
  {
   "cell_type": "code",
   "execution_count": 24,
   "metadata": {
    "id": "u54Rsw26tuyL"
   },
   "outputs": [],
   "source": [
    "y = new_teamdf['RESULT']\n",
    "y=y.astype('int')"
   ]
  },
  {
   "cell_type": "markdown",
   "metadata": {
    "id": "2JgVQN-nY5dk"
   },
   "source": [
    "Split data "
   ]
  },
  {
   "cell_type": "markdown",
   "metadata": {
    "id": "Qc1GuTxNP34E"
   },
   "source": [
    "Referenced Site\n",
    "https://datascience.foundation/sciencewhitepaper/understanding-logistic-regression-with-python-practical-guide-1"
   ]
  },
  {
   "cell_type": "code",
   "execution_count": 25,
   "metadata": {
    "colab": {
     "base_uri": "https://localhost:8080/",
     "height": 85
    },
    "id": "2id7A_EqY4rt",
    "outputId": "20aaef98-780c-4ebd-a699-d75b2538eb95"
   },
   "outputs": [
    {
     "data": {
      "text/plain": [
       "(30634, 43)"
      ]
     },
     "metadata": {},
     "output_type": "display_data"
    },
    {
     "data": {
      "text/plain": [
       "(30634,)"
      ]
     },
     "metadata": {},
     "output_type": "display_data"
    },
    {
     "data": {
      "text/plain": [
       "(16496, 43)"
      ]
     },
     "metadata": {},
     "output_type": "display_data"
    },
    {
     "data": {
      "text/plain": [
       "(16496,)"
      ]
     },
     "metadata": {},
     "output_type": "display_data"
    }
   ],
   "source": [
    "from sklearn.model_selection import train_test_split\n",
    "\n",
    "X_train, X_test, y_train, y_test = train_test_split(X, y, test_size=0.35, random_state=0)\n",
    "          \n",
    "display(X_train.shape, y_train.shape, X_test.shape, y_test.shape)"
   ]
  },
  {
   "cell_type": "code",
   "execution_count": 26,
   "metadata": {
    "colab": {
     "base_uri": "https://localhost:8080/"
    },
    "id": "CnqqwCc8X4VR",
    "outputId": "c7c7cfde-de46-494e-a82d-b62abb4be372"
   },
   "outputs": [
    {
     "data": {
      "text/plain": [
       "LogisticRegression(max_iter=10000)"
      ]
     },
     "execution_count": 26,
     "metadata": {},
     "output_type": "execute_result"
    }
   ],
   "source": [
    "from sklearn.linear_model import LogisticRegression\n",
    "\n",
    "lr = LogisticRegression(max_iter=10000)\n",
    "\n",
    "lr.fit(X_train, y_train)"
   ]
  },
  {
   "cell_type": "markdown",
   "metadata": {
    "id": "2QThIbz-IlTP"
   },
   "source": [
    "Predict with test set"
   ]
  },
  {
   "cell_type": "code",
   "execution_count": 27,
   "metadata": {
    "id": "cZRstyvAInia"
   },
   "outputs": [],
   "source": [
    "y_pred=lr.predict(X_test)"
   ]
  },
  {
   "cell_type": "code",
   "execution_count": 28,
   "metadata": {
    "colab": {
     "base_uri": "https://localhost:8080/"
    },
    "id": "fb1vhKccIrpl",
    "outputId": "506a8cf2-f17d-4ebf-d428-284c1a0dd661"
   },
   "outputs": [
    {
     "data": {
      "text/plain": [
       "array([0, 1, 0, ..., 1, 0, 1])"
      ]
     },
     "execution_count": 28,
     "metadata": {},
     "output_type": "execute_result"
    }
   ],
   "source": [
    "y_pred"
   ]
  },
  {
   "cell_type": "markdown",
   "metadata": {
    "id": "8WD6qra3I01m"
   },
   "source": [
    "Confusion Matrix\n"
   ]
  },
  {
   "cell_type": "code",
   "execution_count": 29,
   "metadata": {
    "colab": {
     "base_uri": "https://localhost:8080/"
    },
    "id": "nerLZS6eMbS1",
    "outputId": "f606e5e4-1735-4902-817f-861c71fb14f2"
   },
   "outputs": [
    {
     "data": {
      "text/plain": [
       "array([[6879, 1357],\n",
       "       [1382, 6878]], dtype=int64)"
      ]
     },
     "execution_count": 29,
     "metadata": {},
     "output_type": "execute_result"
    }
   ],
   "source": [
    "import sklearn.metrics as metrics\n",
    "\n",
    "cnf_matrix = metrics.confusion_matrix(y_test, y_pred)\n",
    "cnf_matrix"
   ]
  },
  {
   "cell_type": "code",
   "execution_count": 30,
   "metadata": {
    "colab": {
     "base_uri": "https://localhost:8080/",
     "height": 296
    },
    "id": "VhqE7rr3MyTB",
    "outputId": "140a4b86-f394-4f75-a25d-ae8e9fc1b0d0"
   },
   "outputs": [
    {
     "data": {
      "text/plain": [
       "<AxesSubplot:xlabel='Predicted', ylabel='Actual'>"
      ]
     },
     "execution_count": 30,
     "metadata": {},
     "output_type": "execute_result"
    },
    {
     "data": {
      "image/png": "[encoded data removed]",
      "text/plain": [
       "<Figure size 432x288 with 2 Axes>"
      ]
     },
     "metadata": {
      "needs_background": "light"
     },
     "output_type": "display_data"
    }
   ],
   "source": [
    "cnf_matrix = pd.crosstab(y_test, y_pred, rownames=['Actual'],colnames=['Predicted'])\n",
    "sns.heatmap(cnf_matrix,annot=True,cmap='Blues',fmt='g')"
   ]
  },
  {
   "cell_type": "code",
   "execution_count": 31,
   "metadata": {
    "colab": {
     "base_uri": "https://localhost:8080/"
    },
    "id": "ytjcnWv5OZpi",
    "outputId": "514d3e60-7e1b-4edb-c9ba-95fb06a7cc66"
   },
   "outputs": [
    {
     "data": {
      "text/plain": [
       "0.8339597478176528"
      ]
     },
     "execution_count": 31,
     "metadata": {},
     "output_type": "execute_result"
    }
   ],
   "source": [
    "(6879 +6878)/(1382 +1357+6879 +6878)"
   ]
  },
  {
   "cell_type": "code",
   "execution_count": 32,
   "metadata": {
    "colab": {
     "base_uri": "https://localhost:8080/"
    },
    "id": "Ai6GFFDLO5nI",
    "outputId": "ddc2c08f-4ade-40a7-af2a-6ce22446113f"
   },
   "outputs": [
    {
     "name": "stdout",
     "output_type": "stream",
     "text": [
      "Accuracy Score:  0.8339597478176528\n",
      "Accuracy Score in Percentage : 83 %\n"
     ]
    }
   ],
   "source": [
    "accuracyScore = metrics.accuracy_score(y_test,y_pred)\n",
    "print('Accuracy Score: ', accuracyScore)\n",
    "print('Accuracy Score in Percentage :' ,int(accuracyScore*100),'%')"
   ]
  },
  {
   "cell_type": "code",
   "execution_count": 33,
   "metadata": {
    "id": "oZ_4GHOMpoVi"
   },
   "outputs": [
    {
     "data": {
      "text/plain": [
       "array([[-1.96320344e-01,  1.00263088e+01,  3.01378728e-02,\n",
       "         3.90236136e+00,  3.03790218e-01,  3.19632789e-01,\n",
       "         8.93745506e-02,  3.53982393e-01,  1.06100099e-01,\n",
       "        -3.02593418e-01, -5.28414740e-02, -1.62531058e-01,\n",
       "         1.71828167e+01, -4.24968792e-02, -8.19455870e-02,\n",
       "         2.35947301e-03, -1.24231705e-02,  9.59478134e-03,\n",
       "         5.42703540e-02, -1.62498785e-01, -1.10924357e-02,\n",
       "        -1.59068531e-01,  3.19578111e-03,  3.29602174e-02,\n",
       "         3.48948169e-02,  9.40132768e-02,  3.26159546e-02,\n",
       "        -1.21934275e-01, -7.41254150e-02,  5.87121685e-02,\n",
       "         1.98368917e-04, -8.55547216e-02,  2.50397047e-02,\n",
       "        -1.95596395e-01,  2.10125180e-02,  2.96375835e-02,\n",
       "         1.06269719e-01, -4.54334340e-02,  3.34528150e-02,\n",
       "        -5.59056516e-03, -1.91877789e-02, -6.32822391e-02,\n",
       "         5.74643038e-02]])"
      ]
     },
     "execution_count": 33,
     "metadata": {},
     "output_type": "execute_result"
    }
   ],
   "source": [
    "lr.coef_"
   ]
  },
  {
   "cell_type": "markdown",
   "metadata": {
    "id": "xxbtTzWPVBYx"
   },
   "source": [
    "Lets see a model without team city"
   ]
  },
  {
   "cell_type": "code",
   "execution_count": 34,
   "metadata": {
    "id": "3V7cMCFjVBGJ"
   },
   "outputs": [],
   "source": [
    "new_teamdf = teamdf[['FG3A', 'FG3_PCT', 'FTA',\n",
    "       'FT_PCT', 'OREB', 'DREB', 'AST', 'STL', 'BLK', 'TO', 'PF', 'FG2A', 'FG2_PCT', 'RESULT']]\n"
   ]
  },
  {
   "cell_type": "code",
   "execution_count": 35,
   "metadata": {
    "id": "Ak6QwcOqWUxp"
   },
   "outputs": [
    {
     "data": {
      "text/html": [
       "<div>\n",
       "<style scoped>\n",
       "    .dataframe tbody tr th:only-of-type {\n",
       "        vertical-align: middle;\n",
       "    }\n",
       "\n",
       "    .dataframe tbody tr th {\n",
       "        vertical-align: top;\n",
       "    }\n",
       "\n",
       "    .dataframe thead th {\n",
       "        text-align: right;\n",
       "    }\n",
       "</style>\n",
       "<table border=\"1\" class=\"dataframe\">\n",
       "  <thead>\n",
       "    <tr style=\"text-align: right;\">\n",
       "      <th></th>\n",
       "      <th>FG3A</th>\n",
       "      <th>FG3_PCT</th>\n",
       "      <th>FTA</th>\n",
       "      <th>FT_PCT</th>\n",
       "      <th>OREB</th>\n",
       "      <th>DREB</th>\n",
       "      <th>AST</th>\n",
       "      <th>STL</th>\n",
       "      <th>BLK</th>\n",
       "      <th>TO</th>\n",
       "      <th>PF</th>\n",
       "      <th>FG2A</th>\n",
       "      <th>FG2_PCT</th>\n",
       "      <th>RESULT</th>\n",
       "    </tr>\n",
       "  </thead>\n",
       "  <tbody>\n",
       "    <tr>\n",
       "      <th>0</th>\n",
       "      <td>32.0</td>\n",
       "      <td>0.437500</td>\n",
       "      <td>17.0</td>\n",
       "      <td>0.705882</td>\n",
       "      <td>10.0</td>\n",
       "      <td>32.0</td>\n",
       "      <td>19.0</td>\n",
       "      <td>6.0</td>\n",
       "      <td>6.0</td>\n",
       "      <td>19.0</td>\n",
       "      <td>25.0</td>\n",
       "      <td>46.0</td>\n",
       "      <td>0.478261</td>\n",
       "      <td>1</td>\n",
       "    </tr>\n",
       "    <tr>\n",
       "      <th>1</th>\n",
       "      <td>15.0</td>\n",
       "      <td>0.333333</td>\n",
       "      <td>28.0</td>\n",
       "      <td>0.678571</td>\n",
       "      <td>10.0</td>\n",
       "      <td>32.0</td>\n",
       "      <td>18.0</td>\n",
       "      <td>11.0</td>\n",
       "      <td>3.0</td>\n",
       "      <td>15.0</td>\n",
       "      <td>17.0</td>\n",
       "      <td>57.0</td>\n",
       "      <td>0.456140</td>\n",
       "      <td>0</td>\n",
       "    </tr>\n",
       "    <tr>\n",
       "      <th>2</th>\n",
       "      <td>13.0</td>\n",
       "      <td>0.384615</td>\n",
       "      <td>40.0</td>\n",
       "      <td>0.725000</td>\n",
       "      <td>13.0</td>\n",
       "      <td>32.0</td>\n",
       "      <td>18.0</td>\n",
       "      <td>6.0</td>\n",
       "      <td>4.0</td>\n",
       "      <td>27.0</td>\n",
       "      <td>27.0</td>\n",
       "      <td>51.0</td>\n",
       "      <td>0.490196</td>\n",
       "      <td>0</td>\n",
       "    </tr>\n",
       "    <tr>\n",
       "      <th>3</th>\n",
       "      <td>18.0</td>\n",
       "      <td>0.333333</td>\n",
       "      <td>35.0</td>\n",
       "      <td>0.771429</td>\n",
       "      <td>7.0</td>\n",
       "      <td>23.0</td>\n",
       "      <td>21.0</td>\n",
       "      <td>10.0</td>\n",
       "      <td>3.0</td>\n",
       "      <td>14.0</td>\n",
       "      <td>31.0</td>\n",
       "      <td>57.0</td>\n",
       "      <td>0.473684</td>\n",
       "      <td>1</td>\n",
       "    </tr>\n",
       "    <tr>\n",
       "      <th>4</th>\n",
       "      <td>21.0</td>\n",
       "      <td>0.380952</td>\n",
       "      <td>32.0</td>\n",
       "      <td>0.718750</td>\n",
       "      <td>12.0</td>\n",
       "      <td>28.0</td>\n",
       "      <td>18.0</td>\n",
       "      <td>8.0</td>\n",
       "      <td>7.0</td>\n",
       "      <td>19.0</td>\n",
       "      <td>24.0</td>\n",
       "      <td>53.0</td>\n",
       "      <td>0.320755</td>\n",
       "      <td>0</td>\n",
       "    </tr>\n",
       "  </tbody>\n",
       "</table>\n",
       "</div>"
      ],
      "text/plain": [
       "   FG3A   FG3_PCT   FTA    FT_PCT  OREB  DREB   AST   STL  BLK    TO    PF  \\\n",
       "0  32.0  0.437500  17.0  0.705882  10.0  32.0  19.0   6.0  6.0  19.0  25.0   \n",
       "1  15.0  0.333333  28.0  0.678571  10.0  32.0  18.0  11.0  3.0  15.0  17.0   \n",
       "2  13.0  0.384615  40.0  0.725000  13.0  32.0  18.0   6.0  4.0  27.0  27.0   \n",
       "3  18.0  0.333333  35.0  0.771429   7.0  23.0  21.0  10.0  3.0  14.0  31.0   \n",
       "4  21.0  0.380952  32.0  0.718750  12.0  28.0  18.0   8.0  7.0  19.0  24.0   \n",
       "\n",
       "   FG2A   FG2_PCT RESULT  \n",
       "0  46.0  0.478261      1  \n",
       "1  57.0  0.456140      0  \n",
       "2  51.0  0.490196      0  \n",
       "3  57.0  0.473684      1  \n",
       "4  53.0  0.320755      0  "
      ]
     },
     "execution_count": 35,
     "metadata": {},
     "output_type": "execute_result"
    }
   ],
   "source": [
    "new_teamdf.head()"
   ]
  },
  {
   "cell_type": "code",
   "execution_count": 36,
   "metadata": {
    "id": "-0-46EdSVRIy"
   },
   "outputs": [],
   "source": [
    "wanted_columns = ['FG3A', 'FG3_PCT', 'FTA',\n",
    "       'FT_PCT', 'OREB', 'DREB', 'AST', 'STL', 'BLK', 'TO', 'PF', 'FG2A', 'FG2_PCT']\n",
    "X = pd.get_dummies(new_teamdf[wanted_columns])"
   ]
  },
  {
   "cell_type": "code",
   "execution_count": 37,
   "metadata": {
    "id": "CjFngDQuVRFb"
   },
   "outputs": [],
   "source": [
    "y = new_teamdf['RESULT']\n",
    "y=y.astype('int')"
   ]
  },
  {
   "cell_type": "code",
   "execution_count": 38,
   "metadata": {
    "colab": {
     "base_uri": "https://localhost:8080/",
     "height": 85
    },
    "id": "2b6dvzMaVbXj",
    "outputId": "71de8ec4-673a-4d83-87f7-f8e41abcfe98"
   },
   "outputs": [
    {
     "data": {
      "text/plain": [
       "(35347, 13)"
      ]
     },
     "metadata": {},
     "output_type": "display_data"
    },
    {
     "data": {
      "text/plain": [
       "(35347,)"
      ]
     },
     "metadata": {},
     "output_type": "display_data"
    },
    {
     "data": {
      "text/plain": [
       "(11783, 13)"
      ]
     },
     "metadata": {},
     "output_type": "display_data"
    },
    {
     "data": {
      "text/plain": [
       "(11783,)"
      ]
     },
     "metadata": {},
     "output_type": "display_data"
    }
   ],
   "source": [
    "from sklearn.model_selection import train_test_split\n",
    "\n",
    "X_train, X_test, y_train, y_test = train_test_split(X, y, test_size=0.25, random_state=0)\n",
    "          \n",
    "display(X_train.shape, y_train.shape, X_test.shape, y_test.shape)"
   ]
  },
  {
   "cell_type": "code",
   "execution_count": 39,
   "metadata": {
    "colab": {
     "base_uri": "https://localhost:8080/"
    },
    "id": "lZtZRUgdVjSO",
    "outputId": "0843166e-1729-4445-8465-be2ad32d91ee"
   },
   "outputs": [
    {
     "data": {
      "text/plain": [
       "LogisticRegression(max_iter=10000)"
      ]
     },
     "execution_count": 39,
     "metadata": {},
     "output_type": "execute_result"
    }
   ],
   "source": [
    "from sklearn.linear_model import LogisticRegression\n",
    "\n",
    "lr = LogisticRegression(max_iter=10000)\n",
    "\n",
    "lr.fit(X_train, y_train)"
   ]
  },
  {
   "cell_type": "code",
   "execution_count": 40,
   "metadata": {
    "id": "zUvS0blAVlTC"
   },
   "outputs": [],
   "source": [
    "y_pred=lr.predict(X_test)"
   ]
  },
  {
   "cell_type": "code",
   "execution_count": 41,
   "metadata": {
    "colab": {
     "base_uri": "https://localhost:8080/"
    },
    "id": "Sif5EbQTVoMi",
    "outputId": "984fcb5b-8313-46c0-d06f-154442169e32"
   },
   "outputs": [
    {
     "data": {
      "text/plain": [
       "array([[4941,  953],\n",
       "       [ 971, 4918]], dtype=int64)"
      ]
     },
     "execution_count": 41,
     "metadata": {},
     "output_type": "execute_result"
    }
   ],
   "source": [
    "import sklearn.metrics as metrics\n",
    "\n",
    "cnf_matrix = metrics.confusion_matrix(y_test, y_pred)\n",
    "cnf_matrix"
   ]
  },
  {
   "cell_type": "code",
   "execution_count": 42,
   "metadata": {
    "colab": {
     "base_uri": "https://localhost:8080/",
     "height": 296
    },
    "id": "Gw8XU9XnVqvS",
    "outputId": "5452b03a-a7e6-4a6d-ea00-fa0b1cc74256"
   },
   "outputs": [
    {
     "data": {
      "text/plain": [
       "<AxesSubplot:xlabel='Predicted', ylabel='Actual'>"
      ]
     },
     "execution_count": 42,
     "metadata": {},
     "output_type": "execute_result"
    },
    {
     "data": {
      "image/png": "[encoded data removed]",
      "text/plain": [
       "<Figure size 432x288 with 2 Axes>"
      ]
     },
     "metadata": {
      "needs_background": "light"
     },
     "output_type": "display_data"
    }
   ],
   "source": [
    "cnf_matrix = pd.crosstab(y_test, y_pred, rownames=['Actual'],colnames=['Predicted'])\n",
    "sns.heatmap(cnf_matrix,annot=True,cmap='Blues',fmt='g')"
   ]
  },
  {
   "cell_type": "code",
   "execution_count": 43,
   "metadata": {
    "colab": {
     "base_uri": "https://localhost:8080/"
    },
    "id": "S2Z_0C3RVtRn",
    "outputId": "281d2036-0001-4ef6-e121-1e4a7ea25441"
   },
   "outputs": [
    {
     "name": "stdout",
     "output_type": "stream",
     "text": [
      "Accuracy Score:  0.8367139098701519\n",
      "Accuracy Score in Percentage : 83 %\n"
     ]
    }
   ],
   "source": [
    "accuracyScore = metrics.accuracy_score(y_test,y_pred)\n",
    "print('Accuracy Score: ', accuracyScore)\n",
    "print('Accuracy Score in Percentage :' ,int(accuracyScore*100),'%')"
   ]
  },
  {
   "cell_type": "code",
   "execution_count": 56,
   "metadata": {},
   "outputs": [
    {
     "data": {
      "text/plain": [
       "array([[-0.19456767, 10.05910458,  0.03001654,  3.9793136 ,  0.30611818,\n",
       "         0.31941565,  0.08806938,  0.35395845,  0.10578302, -0.30105963,\n",
       "        -0.05145367, -0.1618463 , 17.29062829]])"
      ]
     },
     "execution_count": 56,
     "metadata": {},
     "output_type": "execute_result"
    }
   ],
   "source": [
    "lr.coef_"
   ]
  },
  {
   "cell_type": "markdown",
   "metadata": {},
   "source": [
    "Seeing how the accuracy scores are so similiar there may not be too much \n",
    "difference in winning statlines over time"
   ]
  },
  {
   "cell_type": "code",
   "execution_count": 44,
   "metadata": {},
   "outputs": [
    {
     "data": {
      "image/png": "[encoded data removed]",
      "text/plain": [
       "<Figure size 432x288 with 1 Axes>"
      ]
     },
     "metadata": {
      "needs_background": "light"
     },
     "output_type": "display_data"
    }
   ],
   "source": [
    "y_pred_proba = lr.predict_proba(X_test)[::,1]\n",
    "fpr, tpr, _ = metrics.roc_curve(y_test,  y_pred_proba)\n",
    "auc = metrics.roc_auc_score(y_test, y_pred_proba)\n",
    "plt.plot(fpr,tpr,label=\"Teamdf, auc=\"+str(auc))\n",
    "plt.legend(loc=4)\n",
    "plt.show()"
   ]
  }
 ],
 "metadata": {
  "colab": {
   "collapsed_sections": [],
   "name": "Basketballfeatureregression.ipynb",
   "provenance": []
  },
  "kernelspec": {
   "display_name": "Python 3",
   "language": "python",
   "name": "python3"
  },
  "language_info": {
   "codemirror_mode": {
    "name": "ipython",
    "version": 3
   },
   "file_extension": ".py",
   "mimetype": "text/x-python",
   "name": "python",
   "nbconvert_exporter": "python",
   "pygments_lexer": "ipython3",
   "version": "3.8.8"
  }
 },
 "nbformat": 4,
 "nbformat_minor": 1
}
